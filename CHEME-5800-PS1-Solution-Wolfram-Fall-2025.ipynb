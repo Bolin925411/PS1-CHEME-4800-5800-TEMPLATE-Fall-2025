{
 "cells": [
  {
   "cell_type": "markdown",
   "id": "d66a0718-730c-4903-9c30-c48b4267c91e",
   "metadata": {},
   "source": [
    "# PS1: Building Probabilistic Cellular Automata\n",
    "In this activity, we will finish a program that computes two-color one-dimensional cellular automata. In particular, we'll simulate [Rule 30](https://en.wikipedia.org/wiki/Rule_30), a one-dimensional cellular automaton rule introduced by Stephen Wolfram in 1983. It is particularly interesting because it produces complex, seemingly random patterns from simple, well-defined rules.\n",
    "\n",
    "We'll look at two formulations of this model. After we set up the computational environment, we'll simulate a system described by a deterministic one-dimensional cellular automaton in Task 1, and then in Task 2 we'll explore a probabilistic version of the same model.\n",
    "\n",
    "This is a fascinating area of study that combines elements of physics, computer science, and mathematics. \n",
    "\n",
    "> __Applications?__\n",
    ">\n",
    "> Cellular automata have been used to model a wide range of phenomena, from the behavior of gases to the spread of diseases. \n",
    "> * Rule 30 has found practical applications in cryptography and random number generation. Mathematica software using Rule 30 as part of its default random number generator for over two decades, see: Wolfram, 2002, \"A New Kind of Science\"\n",
    "> * Additionally, cellular automata models have been successfully applied to study pattern formation in biological systems, including shell pigmentation patterns in mollusks and the development of cellular tissues, see: Ermentrout GB, Edelstein-Keshet L. Cellular automata approaches to biological modeling. J Theor Biol. 1993 Jan 7;160(1):97-133. doi: 10.1006/jtbi.1993.1007. PMID: 8474249.\n",
    ">\n",
    "> Today, we will explore the world of cellular automata and their applications.\n",
    "\n",
    "Very cool stuff, with many practical and theoretical implications. Let's get started!\n",
    "___"
   ]
  },
  {
   "cell_type": "markdown",
   "id": "67449618",
   "metadata": {},
   "source": [
    "## Setup, Data, and Prerequisites\n",
    "First, we set up the computational environment by including the `Include.jl` file and loading any needed resources.\n",
    "\n",
    "> __Include:___ The [include command](https://docs.julialang.org/en/v1/base/base/#include) evaluates the contents of the input source file, `Include.jl`, in the notebook's global scope. The `Include.jl` file sets paths, loads required external packages, etc. For additional information on the Julia functions and types used in this material, see the [Julia programming language documentation](https://docs.julialang.org/en/v1/). \n",
    "\n",
    "Set up the environment by running the following code cell:"
   ]
  },
  {
   "cell_type": "code",
   "execution_count": 1,
   "id": "b4cc6e49",
   "metadata": {},
   "outputs": [],
   "source": [
    "include(joinpath(@__DIR__, \"Include-solution.jl\"));"
   ]
  },
  {
   "cell_type": "markdown",
   "id": "efd94820",
   "metadata": {},
   "source": [
    "In addition to standard Julia libraries, we'll also use [the `VLDataScienceMachineLearningPackage.jl` package](https://github.com/varnerlab/VLDataScienceMachineLearningPackage.jl). Check out [the documentation](https://varnerlab.github.io/VLDataScienceMachineLearningPackage.jl/dev/) for more information on the functions, types, and data used in this material."
   ]
  },
  {
   "cell_type": "markdown",
   "id": "8b833109",
   "metadata": {},
   "source": [
    "### Constants\n",
    "Before we get to the simulations, we need to set some constants. See the descriptions in the comments for each constant for more details, permissible values, units, etc."
   ]
  },
  {
   "cell_type": "code",
   "execution_count": 2,
   "id": "8b36c8de",
   "metadata": {},
   "outputs": [],
   "source": [
    "# what rule do we want to see?\n",
    "colors = 2; # black and white\n",
    "radius = 3; # radius of the rule - we look at three states\n",
    "rule_index = 30; # what rule do we want to see?\n",
    "number_of_steps = 240; # number of time steps > 0\n",
    "number_of_states = 2^8; # number of states in the system > 3"
   ]
  },
  {
   "cell_type": "markdown",
   "id": "1dd9d527",
   "metadata": {},
   "source": [
    "___"
   ]
  },
  {
   "cell_type": "markdown",
   "id": "ec6a5e35",
   "metadata": {},
   "source": [
    "## Task 1: Deterministic Cellular Automata\n",
    "In this task, we will implement a deterministic one-dimensional cellular automaton [using Rule 30](https://en.wikipedia.org/wiki/Rule_30). We'll start with a simple initial condition and evolve the system over a number of time steps. Let's build a model of the one-dimensional grid world, which we model [as an instance of the `MyOneDimensionalElementaryWolframRuleModel` type](https://varnerlab.github.io/VLDataScienceMachineLearningPackage.jl/dev/types/#VLDataScienceMachineLearningPackage.MyOneDimensionalElementaryWolframRuleModel). \n",
    "\n",
    "We construct [a `MyOneDimensionalElementaryWolframRuleModel` instance](https://varnerlab.github.io/VLDataScienceMachineLearningPackage.jl/dev/types/#VLDataScienceMachineLearningPackage.MyOneDimensionalElementaryWolframRuleModel) using [a `build(...)` method](https://varnerlab.github.io/VLDataScienceMachineLearningPackage.jl/dev/factory/), that takes the index of the rule we want to simulate, the number of possible states for each grid element (colors) and the width of the neighborhood that a cell looks at to make a decision.\n",
    "\n",
    "Let's store our world model in the `rulemodel::MyOneDimensionalElementaryWolframRuleModel` variable."
   ]
  },
  {
   "cell_type": "code",
   "execution_count": 3,
   "id": "9e9368cc",
   "metadata": {},
   "outputs": [
    {
     "data": {
      "text/plain": [
       "MyOneDimensionalElementaryWolframRuleModel(30, 3, 2, Dict(0 => 0, 4 => 1, 5 => 0, 6 => 0, 2 => 1, 7 => 0, 3 => 1, 1 => 1))"
      ]
     },
     "metadata": {},
     "output_type": "display_data"
    }
   ],
   "source": [
    "rulemodel = let\n",
    "\n",
    "    # initialize -\n",
    "    rulemodel = nothing;\n",
    "\n",
    "    # TODO: Complete the implementation of the rule model creation in the build function in Factory.jl \n",
    "    # TODO: call the build function to create a new rule model based on the parameters above\n",
    "    # TODO: make sure to pass in the required fields to the build function\n",
    "    rulemodel = build(MyOneDimensionalElementaryWolframRuleModel, (\n",
    "        index=rule_index, colors=colors, radius=radius\n",
    "    ));\n",
    "\n",
    "    rulemodel; # return\n",
    "end"
   ]
  },
  {
   "cell_type": "markdown",
   "id": "3fc4ec91",
   "metadata": {},
   "source": [
    "What's in the `rulemodel::MyOneDimensionalElementaryWolframRuleModel` model? We'll we can see the fields of the model type using [the `fieldnames(...)` function](https://docs.julialang.org/en/v1/base/base/#Base.fieldnames). Let's take a look:"
   ]
  },
  {
   "cell_type": "code",
   "execution_count": 4,
   "id": "13b791ea",
   "metadata": {},
   "outputs": [
    {
     "data": {
      "text/plain": [
       "(:index, :radius, :number_of_colors, :rule)"
      ]
     },
     "metadata": {},
     "output_type": "display_data"
    }
   ],
   "source": [
    "typeof(rulemodel) |> fieldnames # we can see the fields of the model type using the fieldnames function"
   ]
  },
  {
   "cell_type": "markdown",
   "id": "04cde7d4",
   "metadata": {},
   "source": [
    "Most the stored data is what you would expect, but there is one interesting field: `rule`. This field contains the specific rule being applied in the simulation, which is crucial for understanding the dynamics of the system."
   ]
  },
  {
   "cell_type": "code",
   "execution_count": 5,
   "id": "50028861",
   "metadata": {},
   "outputs": [
    {
     "data": {
      "text/plain": [
       "Dict{Int64, Int64} with 8 entries:\n",
       "  0 => 0\n",
       "  4 => 1\n",
       "  5 => 0\n",
       "  6 => 0\n",
       "  2 => 1\n",
       "  7 => 0\n",
       "  3 => 1\n",
       "  1 => 1"
      ]
     },
     "metadata": {},
     "output_type": "display_data"
    }
   ],
   "source": [
    "rulemodel.rule"
   ]
  },
  {
   "cell_type": "markdown",
   "id": "cb5dfa34",
   "metadata": {},
   "source": [
    "<div>\n",
    "    <center>\n",
    "      <img\n",
    "        src=\"figs/Rule-30-NeedToRedraw-CutFromWeb.png\"\n",
    "        alt=\"Rule 30 Example\"\n",
    "      />\n",
    "    </center>\n",
    "  </div>"
   ]
  },
  {
   "cell_type": "markdown",
   "id": "2061a8e1",
   "metadata": {},
   "source": [
    "The top row shows the _current state_ of the system, while the bottom row shows the _next state_ after applying the rule. This visualization helps in understanding how the rule transforms the system over time.\n",
    "\n",
    "For example, consider the farthest right-hand state. If at $t$ the neighbors of state $i$ are all in state `0` (white), then according to Rule 30, the next state of $i$ will be `0` (white). However, if the right-most neighbor is in state `1` (black), but all others are `0` (white), then the next state of cell $i$ will be `1` (black).\n",
    "\n",
    "Ok, so I get that, but how do we compute the `rule` field in the model? This is going to blow your mind!\n",
    "* The keys of the rule dictionary are the base $b$ representations of the neighborhood states, e.g., $(000)_{2} = 0$, $(001)_{2} = 1$, $(010)_{2} = 2$, $(011)_{2} = 3$, $(100)_{2} = 4$, $(101)_{2} = 5$, $(110)_{2} = 6$, $(111)_{2} = 7$. The values are the _next states_ of cell $i$ after applying the rule. \n",
    "* Where does rule 30 come from? Look at the next states. The next states written in binary $(00011110)_{2} = 30$. Super cool. \n",
    "* The state-next state diagram for any configuration looks like a simple (upside-down) ternary tree\n",
    "\n",
    "Thus, in an elementary Wolfram-type cellular automata model, we exhaustively compute every possible configuration of a cell's neighborhood and then map that to the next state.\n",
    "\n",
    "If you play with the rule index, you'll see how the different configurations lead to different behaviors in the system. "
   ]
  },
  {
   "cell_type": "markdown",
   "id": "06c96a31",
   "metadata": {},
   "source": [
    "### Standard Simulation Algorithm\n",
    "Now that we have a model of our one-dimensional world and the rules that govern it, let's simulate the dynamics of the world forward in time. To do this, we call [the `simulate(...)` method](src/Wolfram.jl), either as a deterministic world or a stochastic world.\n",
    "\n",
    "Let's sketch out a basic deterministic simulation algorithm in pseudocode.\n",
    "\n",
    "__Initialize__: Given the initial cell state vector $\\mathbf{s}\\in\\mathbb{Z}^{n}_{0,1}$ where $n$ is the number of cells in the one-dimensional grid, the number of time steps $T$, and a rule $R:N(\\mathbf{s})\\to\\mathbf{s}^{\\prime}$, where $N(\\mathbf{s})$ is the neighborhood of a cell in the state vector. We assume periodic boundary conditions for the neighborhood function.\n",
    "\n",
    "Time proceeds in discrete steps, where we initialize the time index $t\\gets{0}$.\n",
    "\n",
    "For each $t=1,\\ldots,T$ __do__:\n",
    "1. Get the current state vector: $\\mathbf{s}\\gets\\mathbf{s}_{t-1}$\n",
    "1. Initialize temporary state vector: $\\mathbf{s}^{\\text{temp}} \\gets \\mathbf{0}$\n",
    "1. For each $i=1,\\ldots,n$ __do__:\n",
    "    * Compute the neighborhood $\\hat{\\mathbf{s}}\\gets{N}(i,\\mathbf{s})$ of the cell at location $i$.\n",
    "    * Apply rule $R$ to the neighborhood of cell $i$ to get the next state: $s_{i}^{\\prime}\\gets R(\\hat{\\mathbf{s}})$\n",
    "    * Store the updated state in the temporary vector: $\\mathbf{s}^{\\text{temp}}[i]\\gets s_{i}^{\\prime}$\n",
    "1. Update state for next iteration: $\\mathbf{s}_{t} \\gets \\mathbf{s}^{\\text{temp}}$\n",
    "\n",
    "At the end of the time step $t$, we have the updated state vector $\\mathbf{s}_{t}$.\n",
    " > __Why a temp state variable?__ The temporary buffer ensures that all cells read from the same consistent state at time $t-1$, which is required for the synchronous update semantics of cellular automata.\n",
    "\n",
    "We can store these vectors in a buffer and can then replay the simulation from any time step. Alternatively, we could store $T\\times{n}$ simulation _frames_ where at each time step we are updating a row in the two-dimensional array. This is probably not the most memory-efficient choice!\n",
    "\n",
    "Let's run the deterministic simulation and store the results in the `base_frames::Dict{Int64, Array{Int64, 2}}` variable. To get the deterministic simulation, we call [the `simulate(...)` method](src/Wolfram.jl) with the `algorithm = WolframDeterministicSimulation()` argument."
   ]
  },
  {
   "cell_type": "code",
   "execution_count": 6,
   "id": "aa07a2ae",
   "metadata": {},
   "outputs": [
    {
     "data": {
      "text/plain": [
       "Dict{Int64, Matrix{Int64}} with 240 entries:\n",
       "  56  => [0 0 … 0 0; 0 0 … 0 0; … ; 0 0 … 0 0; 0 0 … 0 0]\n",
       "  35  => [0 0 … 0 0; 0 0 … 0 0; … ; 0 0 … 0 0; 0 0 … 0 0]\n",
       "  60  => [0 0 … 0 0; 0 0 … 0 0; … ; 0 0 … 0 0; 0 0 … 0 0]\n",
       "  220 => [0 0 … 0 0; 0 0 … 0 0; … ; 0 0 … 0 0; 0 0 … 0 0]\n",
       "  67  => [0 0 … 0 0; 0 0 … 0 0; … ; 0 0 … 0 0; 0 0 … 0 0]\n",
       "  215 => [0 0 … 0 0; 0 0 … 0 0; … ; 0 0 … 0 0; 0 0 … 0 0]\n",
       "  73  => [0 0 … 0 0; 0 0 … 0 0; … ; 0 0 … 0 0; 0 0 … 0 0]\n",
       "  115 => [0 0 … 0 0; 0 0 … 0 0; … ; 0 0 … 0 0; 0 0 … 0 0]\n",
       "  112 => [0 0 … 0 0; 0 0 … 0 0; … ; 0 0 … 0 0; 0 0 … 0 0]\n",
       "  185 => [0 0 … 0 0; 0 0 … 0 0; … ; 0 0 … 0 0; 0 0 … 0 0]\n",
       "  86  => [0 0 … 0 0; 0 0 … 0 0; … ; 0 0 … 0 0; 0 0 … 0 0]\n",
       "  168 => [0 0 … 0 0; 0 0 … 0 0; … ; 0 0 … 0 0; 0 0 … 0 0]\n",
       "  207 => [0 0 … 0 0; 0 0 … 0 0; … ; 0 0 … 0 0; 0 0 … 0 0]\n",
       "  183 => [0 0 … 0 0; 0 0 … 0 0; … ; 0 0 … 0 0; 0 0 … 0 0]\n",
       "  224 => [0 0 … 0 0; 0 0 … 0 0; … ; 0 0 … 0 0; 0 0 … 0 0]\n",
       "  177 => [0 0 … 0 0; 0 0 … 0 0; … ; 0 0 … 0 0; 0 0 … 0 0]\n",
       "  12  => [0 0 … 0 0; 0 0 … 0 0; … ; 0 0 … 0 0; 0 0 … 0 0]\n",
       "  75  => [0 0 … 0 0; 0 0 … 0 0; … ; 0 0 … 0 0; 0 0 … 0 0]\n",
       "  23  => [0 0 … 0 0; 0 0 … 0 0; … ; 0 0 … 0 0; 0 0 … 0 0]\n",
       "  ⋮   => ⋮"
      ]
     },
     "metadata": {},
     "output_type": "display_data"
    }
   ],
   "source": [
    "base_frames = let\n",
    "\n",
    "    # Initialize -\n",
    "    initial = zeros(Int64, number_of_states); # Initial condition of the system\n",
    "    initial[round(number_of_states/2) |> Int] = 1; # Middle state is 1, all other states are 0\n",
    "    base_frames = nothing; # Initialize the base frames variable\n",
    "\n",
    "    # TODO: Implement the run loop in the simulation method in Wolfram.jl\n",
    "    # TODO: Call the simulation method which returns the base_frames variable\n",
    "    # TODO: The simulation should use the deterministic stepping algorithm for the Wolfram rule model\n",
    "    # TODO: The simulation should use the initial condition defined above and the number of steps defined above\n",
    "    base_frames = simulate(rulemodel, initial, steps=number_of_steps, \n",
    "        algorithm = WolframDeterministicSimulation());\n",
    "\n",
    "    base_frames; # Return the base frames\n",
    "end"
   ]
  },
  {
   "cell_type": "markdown",
   "id": "0c49fcf2",
   "metadata": {},
   "source": [
    "We can visualize the simulation results using a variety of techniques, such as plotting the state of the system at different time steps or creating animations to show the evolution of the system over time.\n",
    "\n",
    "Here, let's visualize the individual simulation _frames_ stored in the `base_frames::Dict{Int64, Matrix{Int64}}` dictionary at some time index you select using [the `Images.jl` package](https://github.com/JuliaImages/Images.jl) to display the frames as grayscale images.\n",
    "\n",
    "> __Correct:__ If your simulation is working correctly, you should see the characteristic triangular pattern of Rule 30 emerge from the initial condition over time. Run the solution code to visualize the results and confirm that the simulation behaves as expected.\n",
    "\n",
    "So, what do you see?"
   ]
  },
  {
   "cell_type": "code",
   "execution_count": 7,
   "id": "b35e90d1",
   "metadata": {},
   "outputs": [
    {
     "data": {
      "image/png": "[encoded data removed]",
      "text/html": [
       "<img src=\"data:image/png;base64,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\">"
      ],
      "text/plain": [
       "\u001b[0m\u001b[38;5;238;48;5;244m▀\u001b[38;5;244;48;5;255m▀\u001b[38;5;244;48;5;255m▀\u001b[38;5;244;48;5;255m▀\u001b[38;5;244;48;5;255m▀\u001b[38;5;244;48;5;255m▀\u001b[38;5;244;48;5;255m▀\u001b[38;5;244;48;5;255m▀\u001b[38;5;244;48;5;255m▀\u001b[38;5;244;48;5;255m▀\u001b[38;5;244;48;5;255m▀\u001b[38;5;244;48;5;255m▀\u001b[38;5;244;48;5;255m▀\u001b[38;5;244;48;5;255m▀\u001b[38;5;244;48;5;255m▀\u001b[38;5;243;48;5;248m▀\u001b[38;5;240;48;5;244m▀\u001b[38;5;243;48;5;250m▀\u001b[38;5;244;48;5;255m▀\u001b[38;5;244;48;5;255m▀\u001b[38;5;244;48;5;255m▀\u001b[38;5;244;48;5;255m▀\u001b[38;5;244;48;5;255m▀\u001b[38;5;244;48;5;255m▀\u001b[38;5;244;48;5;255m▀\u001b[38;5;244;48;5;255m▀\u001b[38;5;244;48;5;255m▀\u001b[38;5;244;48;5;255m▀\u001b[38;5;244;48;5;255m▀\u001b[38;5;244;48;5;255m▀\u001b[38;5;244;48;5;255m▀\u001b[38;5;244;48;5;255m▀\u001b[38;5;238;48;5;244m▀\u001b[0m\n",
       "\u001b[0m\u001b[38;5;244;48;5;244m▀\u001b[38;5;255;48;5;255m▀\u001b[38;5;255;48;5;255m▀\u001b[38;5;255;48;5;255m▀\u001b[38;5;255;48;5;255m▀\u001b[38;5;255;48;5;255m▀\u001b[38;5;255;48;5;255m▀\u001b[38;5;255;48;5;255m▀\u001b[38;5;255;48;5;255m▀\u001b[38;5;255;48;5;255m▀\u001b[38;5;255;48;5;255m▀\u001b[38;5;255;48;5;255m▀\u001b[38;5;255;48;5;255m▀\u001b[38;5;255;48;5;248m▀\u001b[38;5;248;48;5;243m▀\u001b[38;5;243;48;5;243m▀\u001b[38;5;243;48;5;244m▀\u001b[38;5;244;48;5;244m▀\u001b[38;5;250;48;5;244m▀\u001b[38;5;255;48;5;250m▀\u001b[38;5;255;48;5;255m▀\u001b[38;5;255;48;5;255m▀\u001b[38;5;255;48;5;255m▀\u001b[38;5;255;48;5;255m▀\u001b[38;5;255;48;5;255m▀\u001b[38;5;255;48;5;255m▀\u001b[38;5;255;48;5;255m▀\u001b[38;5;255;48;5;255m▀\u001b[38;5;255;48;5;255m▀\u001b[38;5;255;48;5;255m▀\u001b[38;5;255;48;5;255m▀\u001b[38;5;255;48;5;255m▀\u001b[38;5;244;48;5;244m▀\u001b[0m\n",
       "\u001b[0m\u001b[38;5;244;48;5;244m▀\u001b[38;5;255;48;5;255m▀\u001b[38;5;255;48;5;255m▀\u001b[38;5;255;48;5;255m▀\u001b[38;5;255;48;5;255m▀\u001b[38;5;255;48;5;255m▀\u001b[38;5;255;48;5;255m▀\u001b[38;5;255;48;5;255m▀\u001b[38;5;255;48;5;255m▀\u001b[38;5;255;48;5;255m▀\u001b[38;5;255;48;5;255m▀\u001b[38;5;255;48;5;248m▀\u001b[38;5;248;48;5;243m▀\u001b[38;5;243;48;5;243m▀\u001b[38;5;243;48;5;244m▀\u001b[38;5;244;48;5;243m▀\u001b[38;5;244;48;5;244m▀\u001b[38;5;244;48;5;244m▀\u001b[38;5;244;48;5;244m▀\u001b[38;5;245;48;5;244m▀\u001b[38;5;250;48;5;244m▀\u001b[38;5;255;48;5;250m▀\u001b[38;5;255;48;5;255m▀\u001b[38;5;255;48;5;255m▀\u001b[38;5;255;48;5;255m▀\u001b[38;5;255;48;5;255m▀\u001b[38;5;255;48;5;255m▀\u001b[38;5;255;48;5;255m▀\u001b[38;5;255;48;5;255m▀\u001b[38;5;255;48;5;255m▀\u001b[38;5;255;48;5;255m▀\u001b[38;5;255;48;5;255m▀\u001b[38;5;244;48;5;244m▀\u001b[0m\n",
       "\u001b[0m\u001b[38;5;244;48;5;244m▀\u001b[38;5;255;48;5;255m▀\u001b[38;5;255;48;5;255m▀\u001b[38;5;255;48;5;255m▀\u001b[38;5;255;48;5;255m▀\u001b[38;5;255;48;5;255m▀\u001b[38;5;255;48;5;255m▀\u001b[38;5;255;48;5;255m▀\u001b[38;5;255;48;5;255m▀\u001b[38;5;255;48;5;248m▀\u001b[38;5;248;48;5;243m▀\u001b[38;5;243;48;5;243m▀\u001b[38;5;243;48;5;244m▀\u001b[38;5;244;48;5;244m▀\u001b[38;5;244;48;5;244m▀\u001b[38;5;246;48;5;244m▀\u001b[38;5;245;48;5;244m▀\u001b[38;5;245;48;5;244m▀\u001b[38;5;244;48;5;244m▀\u001b[38;5;244;48;5;244m▀\u001b[38;5;244;48;5;244m▀\u001b[38;5;244;48;5;244m▀\u001b[38;5;250;48;5;244m▀\u001b[38;5;255;48;5;250m▀\u001b[38;5;255;48;5;255m▀\u001b[38;5;255;48;5;255m▀\u001b[38;5;255;48;5;255m▀\u001b[38;5;255;48;5;255m▀\u001b[38;5;255;48;5;255m▀\u001b[38;5;255;48;5;255m▀\u001b[38;5;255;48;5;255m▀\u001b[38;5;255;48;5;255m▀\u001b[38;5;244;48;5;244m▀\u001b[0m\n",
       "\u001b[0m\u001b[38;5;244;48;5;244m▀\u001b[38;5;255;48;5;255m▀\u001b[38;5;255;48;5;255m▀\u001b[38;5;255;48;5;255m▀\u001b[38;5;255;48;5;255m▀\u001b[38;5;255;48;5;255m▀\u001b[38;5;255;48;5;255m▀\u001b[38;5;255;48;5;248m▀\u001b[38;5;248;48;5;243m▀\u001b[38;5;243;48;5;243m▀\u001b[38;5;243;48;5;244m▀\u001b[38;5;244;48;5;244m▀\u001b[38;5;244;48;5;244m▀\u001b[38;5;244;48;5;244m▀\u001b[38;5;244;48;5;244m▀\u001b[38;5;243;48;5;244m▀\u001b[38;5;244;48;5;243m▀\u001b[38;5;243;48;5;244m▀\u001b[38;5;244;48;5;244m▀\u001b[38;5;244;48;5;244m▀\u001b[38;5;244;48;5;244m▀\u001b[38;5;244;48;5;244m▀\u001b[38;5;244;48;5;244m▀\u001b[38;5;247;48;5;246m▀\u001b[38;5;250;48;5;244m▀\u001b[38;5;255;48;5;250m▀\u001b[38;5;255;48;5;255m▀\u001b[38;5;255;48;5;255m▀\u001b[38;5;255;48;5;255m▀\u001b[38;5;255;48;5;255m▀\u001b[38;5;255;48;5;255m▀\u001b[38;5;255;48;5;255m▀\u001b[38;5;244;48;5;244m▀\u001b[0m\n",
       "\u001b[0m\u001b[38;5;244;48;5;244m▀\u001b[38;5;255;48;5;255m▀\u001b[38;5;255;48;5;255m▀\u001b[38;5;255;48;5;255m▀\u001b[38;5;255;48;5;255m▀\u001b[38;5;255;48;5;248m▀\u001b[38;5;248;48;5;243m▀\u001b[38;5;243;48;5;243m▀\u001b[38;5;243;48;5;244m▀\u001b[38;5;244;48;5;244m▀\u001b[38;5;244;48;5;244m▀\u001b[38;5;244;48;5;244m▀\u001b[38;5;244;48;5;244m▀\u001b[38;5;244;48;5;244m▀\u001b[38;5;244;48;5;246m▀\u001b[38;5;244;48;5;244m▀\u001b[38;5;243;48;5;244m▀\u001b[38;5;243;48;5;244m▀\u001b[38;5;243;48;5;244m▀\u001b[38;5;243;48;5;243m▀\u001b[38;5;244;48;5;244m▀\u001b[38;5;244;48;5;245m▀\u001b[38;5;243;48;5;245m▀\u001b[38;5;244;48;5;244m▀\u001b[38;5;244;48;5;244m▀\u001b[38;5;244;48;5;244m▀\u001b[38;5;250;48;5;244m▀\u001b[38;5;255;48;5;250m▀\u001b[38;5;255;48;5;255m▀\u001b[38;5;255;48;5;255m▀\u001b[38;5;255;48;5;255m▀\u001b[38;5;255;48;5;255m▀\u001b[38;5;244;48;5;244m▀\u001b[0m\n",
       "\u001b[0m\u001b[38;5;244;48;5;244m▀\u001b[38;5;255;48;5;255m▀\u001b[38;5;255;48;5;255m▀\u001b[38;5;255;48;5;248m▀\u001b[38;5;248;48;5;243m▀\u001b[38;5;243;48;5;243m▀\u001b[38;5;243;48;5;244m▀\u001b[38;5;244;48;5;244m▀\u001b[38;5;244;48;5;244m▀\u001b[38;5;244;48;5;244m▀\u001b[38;5;244;48;5;245m▀\u001b[38;5;245;48;5;244m▀\u001b[38;5;244;48;5;244m▀\u001b[38;5;244;48;5;246m▀\u001b[38;5;243;48;5;243m▀\u001b[38;5;244;48;5;244m▀\u001b[38;5;244;48;5;244m▀\u001b[38;5;245;48;5;244m▀\u001b[38;5;244;48;5;244m▀\u001b[38;5;244;48;5;244m▀\u001b[38;5;244;48;5;245m▀\u001b[38;5;244;48;5;247m▀\u001b[38;5;244;48;5;244m▀\u001b[38;5;244;48;5;243m▀\u001b[38;5;244;48;5;244m▀\u001b[38;5;244;48;5;245m▀\u001b[38;5;244;48;5;245m▀\u001b[38;5;245;48;5;244m▀\u001b[38;5;250;48;5;244m▀\u001b[38;5;255;48;5;250m▀\u001b[38;5;255;48;5;255m▀\u001b[38;5;255;48;5;255m▀\u001b[38;5;244;48;5;244m▀\u001b[0m\n",
       "\u001b[0m\u001b[38;5;244;48;5;243m▀\u001b[38;5;255;48;5;248m▀\u001b[38;5;248;48;5;243m▀\u001b[38;5;243;48;5;243m▀\u001b[38;5;243;48;5;244m▀\u001b[38;5;244;48;5;244m▀\u001b[38;5;244;48;5;244m▀\u001b[38;5;244;48;5;244m▀\u001b[38;5;244;48;5;245m▀\u001b[38;5;245;48;5;244m▀\u001b[38;5;244;48;5;243m▀\u001b[38;5;243;48;5;244m▀\u001b[38;5;244;48;5;244m▀\u001b[38;5;245;48;5;244m▀\u001b[38;5;244;48;5;244m▀\u001b[38;5;244;48;5;244m▀\u001b[38;5;243;48;5;244m▀\u001b[38;5;244;48;5;244m▀\u001b[38;5;244;48;5;244m▀\u001b[38;5;244;48;5;244m▀\u001b[38;5;244;48;5;244m▀\u001b[38;5;245;48;5;244m▀\u001b[38;5;243;48;5;244m▀\u001b[38;5;244;48;5;244m▀\u001b[38;5;244;48;5;243m▀\u001b[38;5;244;48;5;244m▀\u001b[38;5;244;48;5;244m▀\u001b[38;5;244;48;5;244m▀\u001b[38;5;244;48;5;244m▀\u001b[38;5;244;48;5;244m▀\u001b[38;5;250;48;5;244m▀\u001b[38;5;255;48;5;250m▀\u001b[38;5;244;48;5;243m▀\u001b[0m\n",
       "\u001b[0m\u001b[38;5;238;48;5;238m▀\u001b[38;5;243;48;5;244m▀\u001b[38;5;243;48;5;243m▀\u001b[38;5;244;48;5;244m▀\u001b[38;5;244;48;5;244m▀\u001b[38;5;244;48;5;244m▀\u001b[38;5;244;48;5;245m▀\u001b[38;5;245;48;5;244m▀\u001b[38;5;244;48;5;243m▀\u001b[38;5;243;48;5;244m▀\u001b[38;5;244;48;5;244m▀\u001b[38;5;244;48;5;244m▀\u001b[38;5;245;48;5;244m▀\u001b[38;5;244;48;5;245m▀\u001b[38;5;244;48;5;243m▀\u001b[38;5;244;48;5;244m▀\u001b[38;5;245;48;5;244m▀\u001b[38;5;244;48;5;244m▀\u001b[38;5;243;48;5;244m▀\u001b[38;5;244;48;5;244m▀\u001b[38;5;244;48;5;244m▀\u001b[38;5;244;48;5;246m▀\u001b[38;5;244;48;5;244m▀\u001b[38;5;244;48;5;244m▀\u001b[38;5;244;48;5;244m▀\u001b[38;5;244;48;5;244m▀\u001b[38;5;244;48;5;245m▀\u001b[38;5;243;48;5;245m▀\u001b[38;5;245;48;5;245m▀\u001b[38;5;244;48;5;244m▀\u001b[38;5;244;48;5;244m▀\u001b[38;5;248;48;5;246m▀\u001b[38;5;240;48;5;238m▀\u001b[0m\n",
       "\u001b[0m\u001b[38;5;238;48;5;238m▀\u001b[38;5;244;48;5;244m▀\u001b[38;5;243;48;5;243m▀\u001b[38;5;244;48;5;244m▀\u001b[38;5;244;48;5;245m▀\u001b[38;5;245;48;5;244m▀\u001b[38;5;244;48;5;243m▀\u001b[38;5;243;48;5;244m▀\u001b[38;5;244;48;5;244m▀\u001b[38;5;244;48;5;244m▀\u001b[38;5;244;48;5;244m▀\u001b[38;5;244;48;5;244m▀\u001b[38;5;244;48;5;244m▀\u001b[38;5;244;48;5;244m▀\u001b[38;5;244;48;5;244m▀\u001b[38;5;243;48;5;244m▀\u001b[38;5;244;48;5;245m▀\u001b[38;5;244;48;5;244m▀\u001b[38;5;244;48;5;244m▀\u001b[38;5;244;48;5;243m▀\u001b[38;5;244;48;5;244m▀\u001b[38;5;245;48;5;245m▀\u001b[38;5;244;48;5;244m▀\u001b[38;5;244;48;5;244m▀\u001b[38;5;244;48;5;244m▀\u001b[38;5;244;48;5;244m▀\u001b[38;5;244;48;5;244m▀\u001b[38;5;244;48;5;245m▀\u001b[38;5;245;48;5;244m▀\u001b[38;5;244;48;5;244m▀\u001b[38;5;244;48;5;244m▀\u001b[38;5;245;48;5;244m▀\u001b[38;5;238;48;5;238m▀\u001b[0m\n",
       "\u001b[0m\u001b[38;5;237;48;5;238m▀\u001b[38;5;244;48;5;244m▀\u001b[38;5;244;48;5;245m▀\u001b[38;5;244;48;5;244m▀\u001b[38;5;244;48;5;244m▀\u001b[38;5;243;48;5;244m▀\u001b[38;5;244;48;5;244m▀\u001b[38;5;244;48;5;244m▀\u001b[38;5;244;48;5;244m▀\u001b[38;5;244;48;5;244m▀\u001b[38;5;244;48;5;244m▀\u001b[38;5;244;48;5;244m▀\u001b[38;5;244;48;5;244m▀\u001b[38;5;245;48;5;245m▀\u001b[38;5;244;48;5;244m▀\u001b[38;5;247;48;5;245m▀\u001b[38;5;247;48;5;245m▀\u001b[38;5;244;48;5;244m▀\u001b[38;5;245;48;5;244m▀\u001b[38;5;244;48;5;244m▀\u001b[38;5;244;48;5;243m▀\u001b[38;5;244;48;5;244m▀\u001b[38;5;244;48;5;244m▀\u001b[38;5;244;48;5;244m▀\u001b[38;5;243;48;5;244m▀\u001b[38;5;243;48;5;244m▀\u001b[38;5;244;48;5;243m▀\u001b[38;5;244;48;5;243m▀\u001b[38;5;244;48;5;244m▀\u001b[38;5;243;48;5;244m▀\u001b[38;5;243;48;5;244m▀\u001b[38;5;244;48;5;244m▀\u001b[38;5;238;48;5;237m▀\u001b[0m\n",
       "\u001b[0m\u001b[38;5;238;48;5;237m▀\u001b[38;5;244;48;5;244m▀\u001b[38;5;243;48;5;244m▀\u001b[38;5;244;48;5;244m▀\u001b[38;5;244;48;5;244m▀\u001b[38;5;244;48;5;243m▀\u001b[38;5;243;48;5;244m▀\u001b[38;5;244;48;5;246m▀\u001b[38;5;244;48;5;244m▀\u001b[38;5;244;48;5;244m▀\u001b[38;5;244;48;5;244m▀\u001b[38;5;243;48;5;244m▀\u001b[38;5;243;48;5;244m▀\u001b[38;5;245;48;5;246m▀\u001b[38;5;245;48;5;244m▀\u001b[38;5;244;48;5;244m▀\u001b[38;5;243;48;5;244m▀\u001b[38;5;244;48;5;244m▀\u001b[38;5;244;48;5;244m▀\u001b[38;5;244;48;5;244m▀\u001b[38;5;244;48;5;244m▀\u001b[38;5;244;48;5;244m▀\u001b[38;5;243;48;5;243m▀\u001b[38;5;244;48;5;244m▀\u001b[38;5;244;48;5;244m▀\u001b[38;5;243;48;5;244m▀\u001b[38;5;243;48;5;246m▀\u001b[38;5;244;48;5;245m▀\u001b[38;5;244;48;5;244m▀\u001b[38;5;245;48;5;244m▀\u001b[38;5;245;48;5;244m▀\u001b[38;5;244;48;5;244m▀\u001b[38;5;237;48;5;238m▀\u001b[0m\n",
       "\u001b[0m\u001b[38;5;238;48;5;237m▀\u001b[38;5;245;48;5;246m▀\u001b[38;5;244;48;5;244m▀\u001b[38;5;244;48;5;244m▀\u001b[38;5;244;48;5;244m▀\u001b[38;5;244;48;5;244m▀\u001b[38;5;244;48;5;244m▀\u001b[38;5;244;48;5;243m▀\u001b[38;5;244;48;5;244m▀\u001b[38;5;244;48;5;244m▀\u001b[38;5;244;48;5;244m▀\u001b[38;5;244;48;5;244m▀\u001b[38;5;244;48;5;244m▀\u001b[38;5;245;48;5;244m▀\u001b[38;5;244;48;5;244m▀\u001b[38;5;243;48;5;244m▀\u001b[38;5;244;48;5;244m▀\u001b[38;5;244;48;5;243m▀\u001b[38;5;245;48;5;244m▀\u001b[38;5;246;48;5;245m▀\u001b[38;5;244;48;5;245m▀\u001b[38;5;244;48;5;243m▀\u001b[38;5;246;48;5;245m▀\u001b[38;5;245;48;5;244m▀\u001b[38;5;244;48;5;244m▀\u001b[38;5;245;48;5;244m▀\u001b[38;5;244;48;5;245m▀\u001b[38;5;244;48;5;244m▀\u001b[38;5;244;48;5;244m▀\u001b[38;5;244;48;5;245m▀\u001b[38;5;244;48;5;243m▀\u001b[38;5;244;48;5;243m▀\u001b[38;5;238;48;5;238m▀\u001b[0m\n",
       "\u001b[0m\u001b[38;5;238;48;5;238m▀\u001b[38;5;245;48;5;244m▀\u001b[38;5;244;48;5;244m▀\u001b[38;5;244;48;5;243m▀\u001b[38;5;244;48;5;244m▀\u001b[38;5;244;48;5;244m▀\u001b[38;5;244;48;5;244m▀\u001b[38;5;244;48;5;245m▀\u001b[38;5;244;48;5;244m▀\u001b[38;5;244;48;5;244m▀\u001b[38;5;245;48;5;245m▀\u001b[38;5;244;48;5;244m▀\u001b[38;5;244;48;5;244m▀\u001b[38;5;244;48;5;244m▀\u001b[38;5;244;48;5;244m▀\u001b[38;5;244;48;5;244m▀\u001b[38;5;245;48;5;245m▀\u001b[38;5;243;48;5;244m▀\u001b[38;5;245;48;5;244m▀\u001b[38;5;244;48;5;244m▀\u001b[38;5;244;48;5;244m▀\u001b[38;5;244;48;5;244m▀\u001b[38;5;244;48;5;244m▀\u001b[38;5;244;48;5;244m▀\u001b[38;5;246;48;5;244m▀\u001b[38;5;244;48;5;244m▀\u001b[38;5;244;48;5;244m▀\u001b[38;5;244;48;5;244m▀\u001b[38;5;244;48;5;247m▀\u001b[38;5;245;48;5;245m▀\u001b[38;5;244;48;5;244m▀\u001b[38;5;244;48;5;244m▀\u001b[38;5;238;48;5;238m▀\u001b[0m\n",
       "\u001b[0m\u001b[38;5;238;48;5;238m▀\u001b[38;5;244;48;5;244m▀\u001b[38;5;244;48;5;244m▀\u001b[38;5;243;48;5;244m▀\u001b[38;5;244;48;5;246m▀\u001b[38;5;245;48;5;244m▀\u001b[38;5;244;48;5;245m▀\u001b[38;5;245;48;5;244m▀\u001b[38;5;244;48;5;245m▀\u001b[38;5;244;48;5;243m▀\u001b[38;5;244;48;5;244m▀\u001b[38;5;245;48;5;244m▀\u001b[38;5;244;48;5;244m▀\u001b[38;5;244;48;5;244m▀\u001b[38;5;244;48;5;243m▀\u001b[38;5;243;48;5;244m▀\u001b[38;5;244;48;5;244m▀\u001b[38;5;243;48;5;244m▀\u001b[38;5;244;48;5;244m▀\u001b[38;5;245;48;5;244m▀\u001b[38;5;244;48;5;243m▀\u001b[38;5;244;48;5;244m▀\u001b[38;5;244;48;5;244m▀\u001b[38;5;244;48;5;244m▀\u001b[38;5;244;48;5;244m▀\u001b[38;5;244;48;5;244m▀\u001b[38;5;244;48;5;244m▀\u001b[38;5;245;48;5;245m▀\u001b[38;5;245;48;5;244m▀\u001b[38;5;244;48;5;244m▀\u001b[38;5;244;48;5;244m▀\u001b[38;5;244;48;5;244m▀\u001b[38;5;238;48;5;238m▀\u001b[0m\n",
       "\u001b[0m\u001b[38;5;235m▀\u001b[38;5;238m▀\u001b[38;5;237m▀\u001b[38;5;237m▀\u001b[38;5;238m▀\u001b[38;5;238m▀\u001b[38;5;238m▀\u001b[38;5;238m▀\u001b[38;5;238m▀\u001b[38;5;237m▀\u001b[38;5;237m▀\u001b[38;5;239m▀\u001b[38;5;238m▀\u001b[38;5;238m▀\u001b[38;5;238m▀\u001b[38;5;237m▀\u001b[38;5;238m▀\u001b[38;5;238m▀\u001b[38;5;238m▀\u001b[38;5;238m▀\u001b[38;5;237m▀\u001b[38;5;237m▀\u001b[38;5;238m▀\u001b[38;5;238m▀\u001b[38;5;239m▀\u001b[38;5;238m▀\u001b[38;5;238m▀\u001b[38;5;239m▀\u001b[38;5;238m▀\u001b[38;5;238m▀\u001b[38;5;238m▀\u001b[38;5;238m▀\u001b[38;5;234m▀\u001b[0m"
      ]
     },
     "metadata": {},
     "output_type": "display_data"
    }
   ],
   "source": [
    "let\n",
    "    # initialize -\n",
    "    index_to_visualize = 240; # TODO: pick a value up to t ∈ [1, T]\n",
    "    Gray.(1 .- base_frames[index_to_visualize]) # frame to visualize\n",
    "end"
   ]
  },
  {
   "cell_type": "code",
   "execution_count": 8,
   "id": "84f4041f",
   "metadata": {},
   "outputs": [],
   "source": [
    "do_you_see_deterministic_rule_30_simulation_figure = true; # set to true if you see the figure above"
   ]
  },
  {
   "cell_type": "markdown",
   "id": "b1e27937",
   "metadata": {},
   "source": [
    "### What do we see?\n",
    "Each horizontal line in the visualization represents the state of all cells at a specific time step, with black pixels indicating active cells (state 1) and white pixels representing inactive cells (state 0).\n",
    "\n",
    "* The deterministic Rule 30 simulation produces a triangular pattern that emerges from the single activated cell at the center. Starting from this simple initial condition, the system evolves to create complex, seemingly random structures that expand outward in both directions as time progresses down the vertical axis.\n",
    "\n",
    "* The pattern exhibits asymmetry despite the symmetric initial condition and deterministic rules. The left side shows more regular, periodic structures, while the right side displays chaotic, unpredictable behavior that appears almost random. This duality makes Rule 30 particularly interesting because it demonstrates how simple, deterministic local rules can generate both order and apparent randomness within the same system.\n",
    "\n",
    "Next, let's add some randomness to the simulation.\n",
    "___"
   ]
  },
  {
   "cell_type": "markdown",
   "id": "d487c40f",
   "metadata": {},
   "source": [
    "## Task 2: Probabilistic Cellular Automata\n",
    "In this task, we will implement a probabilistic one-dimensional cellular automaton [using Rule 30](https://en.wikipedia.org/wiki/Rule_30). We'll introduce randomness into the evolution process and observe how it affects the resulting patterns.\n",
    "\n",
    "> __Randomness:__ The rule will stay the same; however, we introduce a random element into the state transitions. First, suppose that a cell in the current state undergoes the transition to the next state probabilistically, i.e., not every cell can _move_ at each time step. Second, if a cell does update its state, there will be a cooldown period before it can move again.\n",
    "\n",
    "Let's sketch out some pseudocode for the stochastic variant of the grid-world simulation.\n",
    "\n",
    "### Stochastic Simulation Algorithm\n",
    "\n",
    "__Initialize__: Given the initial cell state vector $\\mathbf{s}\\in\\mathbb{Z}^{n}_{0,1}$ where $n$ is the number of cells in the one-dimensional grid, the number of time steps $T$, a rule $R:N(\\mathbf{s})\\to\\mathbf{s}^{\\prime}$, where $N(\\mathbf{s})$ is the neighborhood of a cell in the state vector, a parameter $p\\in[0,1]$ representing the probability of a cell updating its state, and a cooldown period $c\\in\\mathbb{Z}^{+}$. Initialize a cooldown vector $\\mathbf{c} \\in \\mathbb{N}_0^n$ with all zeros.\n",
    "\n",
    "Time proceeds in discrete steps, where we initialize the time index $t\\gets{0}$.\n",
    "\n",
    "For each $t=1,\\ldots,T$ __do__:\n",
    "\n",
    "1. Update cooldown periods for all cells in the grid:\n",
    "   * For each cell $j=1,\\ldots,n$ __do__:\n",
    "       - If the cooldown period for cell $j$ is greater than $0$, decrement it by $1$: $\\mathbf{c}[j] \\gets \\max(0, \\mathbf{c}[j] - 1)$\n",
    "\n",
    "1. Initialize empty movement queue: $\\texttt{Q} \\gets \\emptyset$\n",
    "\n",
    "1. For each cell $i = 1,\\ldots,n$ with $\\mathbf{c}[i] = 0$ __do__:\n",
    "   * With probability $p$, add the cell $i$ to the movement queue $\\texttt{Q}\\gets\\texttt{Q} \\cup \\{i\\}$.\n",
    "\n",
    "1. Get the current state vector: $\\mathbf{s}\\gets\\mathbf{s}_{t-1}$\n",
    "1. Initialize temporary state vector: $\\mathbf{s}^{\\text{temp}} \\gets \\mathbf{s}$\n",
    "1. While $\\texttt{Q}$ is not empty __do__:\n",
    "    * Dequeue a cell $i\\gets\\texttt{Q}.\\texttt{dequeue}()$ from the movement queue.\n",
    "    * Compute the neighborhood $\\hat{\\mathbf{s}}\\gets{N}(i,\\mathbf{s})$ of the cell at location $i$.\n",
    "    * Apply rule $R$ to compute the next state: $s_{i}^{\\prime}\\gets R(\\hat{\\mathbf{s}})$ for cell $i$\n",
    "    * Store the updated state in the temporary vector: $\\mathbf{s}^{\\text{temp}}[i]\\gets s_{i}^{\\prime}$\n",
    "    * Set the cooldown period for cell $i$: $\\mathbf{c}[i] \\gets c$\n",
    "1. Update state for next iteration: $\\mathbf{s}_{t} \\gets \\mathbf{s}^{\\text{temp}}$\n",
    "\n",
    "The key differences from the deterministic case are the probabilistic queue selection and the cooldown mechanism that prevents recently updated cells from participating in immediate subsequent updates.\n",
    "\n",
    "Just like the deterministic case, we store the $T\\times{n}$ simulation _frames_, where at each time step we are updating a row in the two-dimensional array.\n",
    "\n",
    "Let's run the stochastic simulation and store the results in the `stochastic_frames::Dict{Int64, Array{Int64, 2}}` variable.\n",
    "To get the stochastic simulation, we call [the `simulate(...)` method](src/Wolfram.jl) with the `algorithm=WolframStochasticSimulation()` argument."
   ]
  },
  {
   "cell_type": "code",
   "execution_count": 9,
   "id": "a2e4ecc3",
   "metadata": {},
   "outputs": [
    {
     "data": {
      "text/plain": [
       "Dict{Int64, Matrix{Int64}} with 240 entries:\n",
       "  56  => [0 0 … 0 0; 0 0 … 0 0; … ; 0 0 … 0 0; 0 0 … 0 0]\n",
       "  35  => [0 0 … 0 0; 0 0 … 0 0; … ; 0 0 … 0 0; 0 0 … 0 0]\n",
       "  60  => [0 0 … 0 0; 0 0 … 0 0; … ; 0 0 … 0 0; 0 0 … 0 0]\n",
       "  220 => [0 0 … 0 0; 0 0 … 0 0; … ; 0 0 … 0 0; 0 0 … 0 0]\n",
       "  67  => [0 0 … 0 0; 0 0 … 0 0; … ; 0 0 … 0 0; 0 0 … 0 0]\n",
       "  215 => [0 0 … 0 0; 0 0 … 0 0; … ; 0 0 … 0 0; 0 0 … 0 0]\n",
       "  73  => [0 0 … 0 0; 0 0 … 0 0; … ; 0 0 … 0 0; 0 0 … 0 0]\n",
       "  115 => [0 0 … 0 0; 0 0 … 0 0; … ; 0 0 … 0 0; 0 0 … 0 0]\n",
       "  112 => [0 0 … 0 0; 0 0 … 0 0; … ; 0 0 … 0 0; 0 0 … 0 0]\n",
       "  185 => [0 0 … 0 0; 0 0 … 0 0; … ; 0 0 … 0 0; 0 0 … 0 0]\n",
       "  86  => [0 0 … 0 0; 0 0 … 0 0; … ; 0 0 … 0 0; 0 0 … 0 0]\n",
       "  168 => [0 0 … 0 0; 0 0 … 0 0; … ; 0 0 … 0 0; 0 0 … 0 0]\n",
       "  207 => [0 0 … 0 0; 0 0 … 0 0; … ; 0 0 … 0 0; 0 0 … 0 0]\n",
       "  183 => [0 0 … 0 0; 0 0 … 0 0; … ; 0 0 … 0 0; 0 0 … 0 0]\n",
       "  224 => [0 0 … 0 0; 0 0 … 0 0; … ; 0 0 … 0 0; 0 0 … 0 0]\n",
       "  177 => [0 0 … 0 0; 0 0 … 0 0; … ; 0 0 … 0 0; 0 0 … 0 0]\n",
       "  12  => [0 0 … 0 0; 0 0 … 0 0; … ; 0 0 … 0 0; 0 0 … 0 0]\n",
       "  75  => [0 0 … 0 0; 0 0 … 0 0; … ; 0 0 … 0 0; 0 0 … 0 0]\n",
       "  23  => [0 0 … 0 0; 0 0 … 0 0; … ; 0 0 … 0 0; 0 0 … 0 0]\n",
       "  ⋮   => ⋮"
      ]
     },
     "metadata": {},
     "output_type": "display_data"
    }
   ],
   "source": [
    "stochastic_frames = let\n",
    "\n",
    "    # initialize -\n",
    "    probability = Dict{Int64, Float64}();\n",
    "    probability_per_cell = 0.71;\n",
    "    cooldown_per_cell = 1; # it takes this many steps to cool down\n",
    "    initial = zeros(Int64, number_of_states); # initial condition of the system\n",
    "    initial[round(number_of_states/2) |> Int] = 1; # middle state, is 1, all other states are 0\n",
    "    frames = nothing; # initialize the frames variable\n",
    "\n",
    "    # populate the probability dictionary -\n",
    "    for s ∈ 1:number_of_states\n",
    "        probability[s] = probability_per_cell;\n",
    "    end\n",
    "\n",
    "    # TODO: Implement the run loop in the simulation method in Wolfram.jl\n",
    "    # TODO: Call the simulation method which returns the stochastic frames variable\n",
    "    # TODO: The simulation should use the stochastic stepping algorithm for the Wolfram rule model\n",
    "    # TODO: The simulation should use the initial condition defined above and the number of steps defined above\n",
    "    # TODO: The simulation should use the probability dictionary defined above and the cooldown length defined above\n",
    "    frames = simulate(rulemodel, initial, steps=number_of_steps, maxnumberofmoves=(number_of_states - 0), \n",
    "        parameters = probability,\n",
    "        cooldownlength=cooldown_per_cell,\n",
    "        algorithm=WolframStochasticSimulation());\n",
    "\n",
    "    \n",
    "    frames # return \n",
    "end"
   ]
  },
  {
   "cell_type": "markdown",
   "id": "edc5c548",
   "metadata": {},
   "source": [
    "Let's visualize the individual simulation _frames_ stored in the `stochastic_frames` dictionary at some time index you select using [the `Images.jl` package](https://github.com/JuliaImages/Images.jl) as a grayscale image:\n",
    "\n",
    "> __Correct:__ If your simulation is working correctly, you should see a jagged triangular-like structure emerge from the initial condition over time, with some cells updating their states while others remain unchanged due to the probabilistic nature of the simulation and the cooldown mechanism. Run the solution code to visualize the results and confirm that the simulation behaves as expected.\n",
    "\n",
    "So, what do you see?"
   ]
  },
  {
   "cell_type": "code",
   "execution_count": 10,
   "id": "034462f0",
   "metadata": {},
   "outputs": [
    {
     "data": {
      "image/png": "[encoded data removed]",
      "text/html": [
       "<img src=\"data:image/png;base64,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\">"
      ],
      "text/plain": [
       "\u001b[0m\u001b[38;5;238;48;5;244m▀\u001b[38;5;244;48;5;255m▀\u001b[38;5;244;48;5;255m▀\u001b[38;5;244;48;5;255m▀\u001b[38;5;244;48;5;255m▀\u001b[38;5;244;48;5;255m▀\u001b[38;5;244;48;5;255m▀\u001b[38;5;244;48;5;255m▀\u001b[38;5;244;48;5;255m▀\u001b[38;5;244;48;5;255m▀\u001b[38;5;244;48;5;255m▀\u001b[38;5;244;48;5;255m▀\u001b[38;5;244;48;5;255m▀\u001b[38;5;244;48;5;255m▀\u001b[38;5;244;48;5;255m▀\u001b[38;5;243;48;5;252m▀\u001b[38;5;241;48;5;252m▀\u001b[38;5;244;48;5;255m▀\u001b[38;5;244;48;5;255m▀\u001b[38;5;244;48;5;255m▀\u001b[38;5;244;48;5;255m▀\u001b[38;5;244;48;5;255m▀\u001b[38;5;244;48;5;255m▀\u001b[38;5;244;48;5;255m▀\u001b[38;5;244;48;5;255m▀\u001b[38;5;244;48;5;255m▀\u001b[38;5;244;48;5;255m▀\u001b[38;5;244;48;5;255m▀\u001b[38;5;244;48;5;255m▀\u001b[38;5;244;48;5;255m▀\u001b[38;5;244;48;5;255m▀\u001b[38;5;244;48;5;255m▀\u001b[38;5;238;48;5;244m▀\u001b[0m\n",
       "\u001b[0m\u001b[38;5;244;48;5;244m▀\u001b[38;5;255;48;5;255m▀\u001b[38;5;255;48;5;255m▀\u001b[38;5;255;48;5;255m▀\u001b[38;5;255;48;5;255m▀\u001b[38;5;255;48;5;255m▀\u001b[38;5;255;48;5;255m▀\u001b[38;5;255;48;5;255m▀\u001b[38;5;255;48;5;255m▀\u001b[38;5;255;48;5;255m▀\u001b[38;5;255;48;5;255m▀\u001b[38;5;255;48;5;255m▀\u001b[38;5;255;48;5;255m▀\u001b[38;5;255;48;5;255m▀\u001b[38;5;255;48;5;249m▀\u001b[38;5;248;48;5;247m▀\u001b[38;5;249;48;5;247m▀\u001b[38;5;255;48;5;252m▀\u001b[38;5;255;48;5;255m▀\u001b[38;5;255;48;5;255m▀\u001b[38;5;255;48;5;255m▀\u001b[38;5;255;48;5;255m▀\u001b[38;5;255;48;5;255m▀\u001b[38;5;255;48;5;255m▀\u001b[38;5;255;48;5;255m▀\u001b[38;5;255;48;5;255m▀\u001b[38;5;255;48;5;255m▀\u001b[38;5;255;48;5;255m▀\u001b[38;5;255;48;5;255m▀\u001b[38;5;255;48;5;255m▀\u001b[38;5;255;48;5;255m▀\u001b[38;5;255;48;5;255m▀\u001b[38;5;244;48;5;244m▀\u001b[0m\n",
       "\u001b[0m\u001b[38;5;244;48;5;244m▀\u001b[38;5;255;48;5;255m▀\u001b[38;5;255;48;5;255m▀\u001b[38;5;255;48;5;255m▀\u001b[38;5;255;48;5;255m▀\u001b[38;5;255;48;5;255m▀\u001b[38;5;255;48;5;255m▀\u001b[38;5;255;48;5;255m▀\u001b[38;5;255;48;5;255m▀\u001b[38;5;255;48;5;255m▀\u001b[38;5;255;48;5;255m▀\u001b[38;5;255;48;5;255m▀\u001b[38;5;255;48;5;255m▀\u001b[38;5;255;48;5;252m▀\u001b[38;5;248;48;5;247m▀\u001b[38;5;245;48;5;247m▀\u001b[38;5;247;48;5;247m▀\u001b[38;5;247;48;5;247m▀\u001b[38;5;252;48;5;250m▀\u001b[38;5;255;48;5;255m▀\u001b[38;5;255;48;5;255m▀\u001b[38;5;255;48;5;255m▀\u001b[38;5;255;48;5;255m▀\u001b[38;5;255;48;5;255m▀\u001b[38;5;255;48;5;255m▀\u001b[38;5;255;48;5;255m▀\u001b[38;5;255;48;5;255m▀\u001b[38;5;255;48;5;255m▀\u001b[38;5;255;48;5;255m▀\u001b[38;5;255;48;5;255m▀\u001b[38;5;255;48;5;255m▀\u001b[38;5;255;48;5;255m▀\u001b[38;5;244;48;5;244m▀\u001b[0m\n",
       "\u001b[0m\u001b[38;5;244;48;5;244m▀\u001b[38;5;255;48;5;255m▀\u001b[38;5;255;48;5;255m▀\u001b[38;5;255;48;5;255m▀\u001b[38;5;255;48;5;255m▀\u001b[38;5;255;48;5;255m▀\u001b[38;5;255;48;5;255m▀\u001b[38;5;255;48;5;255m▀\u001b[38;5;255;48;5;255m▀\u001b[38;5;255;48;5;255m▀\u001b[38;5;255;48;5;255m▀\u001b[38;5;255;48;5;254m▀\u001b[38;5;253;48;5;249m▀\u001b[38;5;247;48;5;246m▀\u001b[38;5;248;48;5;246m▀\u001b[38;5;246;48;5;249m▀\u001b[38;5;249;48;5;249m▀\u001b[38;5;251;48;5;247m▀\u001b[38;5;249;48;5;246m▀\u001b[38;5;252;48;5;247m▀\u001b[38;5;255;48;5;253m▀\u001b[38;5;255;48;5;255m▀\u001b[38;5;255;48;5;255m▀\u001b[38;5;255;48;5;255m▀\u001b[38;5;255;48;5;255m▀\u001b[38;5;255;48;5;255m▀\u001b[38;5;255;48;5;255m▀\u001b[38;5;255;48;5;255m▀\u001b[38;5;255;48;5;255m▀\u001b[38;5;255;48;5;255m▀\u001b[38;5;255;48;5;255m▀\u001b[38;5;255;48;5;255m▀\u001b[38;5;244;48;5;244m▀\u001b[0m\n",
       "\u001b[0m\u001b[38;5;244;48;5;244m▀\u001b[38;5;255;48;5;255m▀\u001b[38;5;255;48;5;255m▀\u001b[38;5;255;48;5;255m▀\u001b[38;5;255;48;5;255m▀\u001b[38;5;255;48;5;255m▀\u001b[38;5;255;48;5;255m▀\u001b[38;5;255;48;5;255m▀\u001b[38;5;255;48;5;255m▀\u001b[38;5;255;48;5;255m▀\u001b[38;5;255;48;5;253m▀\u001b[38;5;249;48;5;246m▀\u001b[38;5;248;48;5;247m▀\u001b[38;5;247;48;5;247m▀\u001b[38;5;248;48;5;246m▀\u001b[38;5;251;48;5;248m▀\u001b[38;5;250;48;5;248m▀\u001b[38;5;247;48;5;249m▀\u001b[38;5;246;48;5;247m▀\u001b[38;5;246;48;5;246m▀\u001b[38;5;249;48;5;248m▀\u001b[38;5;255;48;5;252m▀\u001b[38;5;255;48;5;255m▀\u001b[38;5;255;48;5;255m▀\u001b[38;5;255;48;5;255m▀\u001b[38;5;255;48;5;255m▀\u001b[38;5;255;48;5;255m▀\u001b[38;5;255;48;5;255m▀\u001b[38;5;255;48;5;255m▀\u001b[38;5;255;48;5;255m▀\u001b[38;5;255;48;5;255m▀\u001b[38;5;255;48;5;255m▀\u001b[38;5;244;48;5;244m▀\u001b[0m\n",
       "\u001b[0m\u001b[38;5;244;48;5;244m▀\u001b[38;5;255;48;5;255m▀\u001b[38;5;255;48;5;255m▀\u001b[38;5;255;48;5;255m▀\u001b[38;5;255;48;5;255m▀\u001b[38;5;255;48;5;255m▀\u001b[38;5;255;48;5;255m▀\u001b[38;5;255;48;5;255m▀\u001b[38;5;255;48;5;255m▀\u001b[38;5;255;48;5;253m▀\u001b[38;5;249;48;5;246m▀\u001b[38;5;246;48;5;247m▀\u001b[38;5;247;48;5;250m▀\u001b[38;5;245;48;5;248m▀\u001b[38;5;246;48;5;252m▀\u001b[38;5;248;48;5;254m▀\u001b[38;5;247;48;5;247m▀\u001b[38;5;249;48;5;248m▀\u001b[38;5;250;48;5;249m▀\u001b[38;5;247;48;5;247m▀\u001b[38;5;246;48;5;246m▀\u001b[38;5;248;48;5;247m▀\u001b[38;5;254;48;5;251m▀\u001b[38;5;255;48;5;255m▀\u001b[38;5;255;48;5;255m▀\u001b[38;5;255;48;5;255m▀\u001b[38;5;255;48;5;255m▀\u001b[38;5;255;48;5;255m▀\u001b[38;5;255;48;5;255m▀\u001b[38;5;255;48;5;255m▀\u001b[38;5;255;48;5;255m▀\u001b[38;5;255;48;5;255m▀\u001b[38;5;244;48;5;244m▀\u001b[0m\n",
       "\u001b[0m\u001b[38;5;244;48;5;244m▀\u001b[38;5;255;48;5;255m▀\u001b[38;5;255;48;5;255m▀\u001b[38;5;255;48;5;255m▀\u001b[38;5;255;48;5;255m▀\u001b[38;5;255;48;5;255m▀\u001b[38;5;255;48;5;255m▀\u001b[38;5;255;48;5;255m▀\u001b[38;5;255;48;5;251m▀\u001b[38;5;249;48;5;246m▀\u001b[38;5;247;48;5;247m▀\u001b[38;5;247;48;5;246m▀\u001b[38;5;248;48;5;246m▀\u001b[38;5;247;48;5;247m▀\u001b[38;5;253;48;5;253m▀\u001b[38;5;253;48;5;249m▀\u001b[38;5;246;48;5;246m▀\u001b[38;5;247;48;5;246m▀\u001b[38;5;247;48;5;246m▀\u001b[38;5;249;48;5;253m▀\u001b[38;5;246;48;5;247m▀\u001b[38;5;247;48;5;247m▀\u001b[38;5;252;48;5;248m▀\u001b[38;5;255;48;5;255m▀\u001b[38;5;255;48;5;255m▀\u001b[38;5;255;48;5;255m▀\u001b[38;5;255;48;5;255m▀\u001b[38;5;255;48;5;255m▀\u001b[38;5;255;48;5;255m▀\u001b[38;5;255;48;5;255m▀\u001b[38;5;255;48;5;255m▀\u001b[38;5;255;48;5;255m▀\u001b[38;5;244;48;5;244m▀\u001b[0m\n",
       "\u001b[0m\u001b[38;5;244;48;5;244m▀\u001b[38;5;255;48;5;255m▀\u001b[38;5;255;48;5;255m▀\u001b[38;5;255;48;5;255m▀\u001b[38;5;255;48;5;255m▀\u001b[38;5;255;48;5;255m▀\u001b[38;5;255;48;5;255m▀\u001b[38;5;255;48;5;255m▀\u001b[38;5;253;48;5;249m▀\u001b[38;5;247;48;5;247m▀\u001b[38;5;249;48;5;250m▀\u001b[38;5;248;48;5;254m▀\u001b[38;5;246;48;5;248m▀\u001b[38;5;248;48;5;249m▀\u001b[38;5;249;48;5;247m▀\u001b[38;5;247;48;5;246m▀\u001b[38;5;246;48;5;245m▀\u001b[38;5;247;48;5;247m▀\u001b[38;5;247;48;5;252m▀\u001b[38;5;250;48;5;250m▀\u001b[38;5;247;48;5;246m▀\u001b[38;5;246;48;5;245m▀\u001b[38;5;247;48;5;247m▀\u001b[38;5;253;48;5;249m▀\u001b[38;5;255;48;5;255m▀\u001b[38;5;255;48;5;255m▀\u001b[38;5;255;48;5;255m▀\u001b[38;5;255;48;5;255m▀\u001b[38;5;255;48;5;255m▀\u001b[38;5;255;48;5;255m▀\u001b[38;5;255;48;5;255m▀\u001b[38;5;255;48;5;255m▀\u001b[38;5;244;48;5;244m▀\u001b[0m\n",
       "\u001b[0m\u001b[38;5;244;48;5;244m▀\u001b[38;5;255;48;5;255m▀\u001b[38;5;255;48;5;255m▀\u001b[38;5;255;48;5;255m▀\u001b[38;5;255;48;5;255m▀\u001b[38;5;255;48;5;255m▀\u001b[38;5;255;48;5;255m▀\u001b[38;5;251;48;5;248m▀\u001b[38;5;247;48;5;253m▀\u001b[38;5;249;48;5;249m▀\u001b[38;5;249;48;5;251m▀\u001b[38;5;253;48;5;247m▀\u001b[38;5;247;48;5;247m▀\u001b[38;5;249;48;5;247m▀\u001b[38;5;247;48;5;246m▀\u001b[38;5;247;48;5;248m▀\u001b[38;5;247;48;5;248m▀\u001b[38;5;247;48;5;247m▀\u001b[38;5;251;48;5;246m▀\u001b[38;5;248;48;5;247m▀\u001b[38;5;250;48;5;247m▀\u001b[38;5;246;48;5;245m▀\u001b[38;5;246;48;5;246m▀\u001b[38;5;246;48;5;247m▀\u001b[38;5;252;48;5;250m▀\u001b[38;5;255;48;5;255m▀\u001b[38;5;255;48;5;255m▀\u001b[38;5;255;48;5;255m▀\u001b[38;5;255;48;5;255m▀\u001b[38;5;255;48;5;255m▀\u001b[38;5;255;48;5;255m▀\u001b[38;5;255;48;5;255m▀\u001b[38;5;244;48;5;244m▀\u001b[0m\n",
       "\u001b[0m\u001b[38;5;244;48;5;244m▀\u001b[38;5;255;48;5;255m▀\u001b[38;5;255;48;5;255m▀\u001b[38;5;255;48;5;255m▀\u001b[38;5;255;48;5;255m▀\u001b[38;5;255;48;5;255m▀\u001b[38;5;255;48;5;255m▀\u001b[38;5;254;48;5;255m▀\u001b[38;5;251;48;5;248m▀\u001b[38;5;246;48;5;246m▀\u001b[38;5;248;48;5;248m▀\u001b[38;5;246;48;5;246m▀\u001b[38;5;246;48;5;246m▀\u001b[38;5;247;48;5;248m▀\u001b[38;5;246;48;5;246m▀\u001b[38;5;246;48;5;251m▀\u001b[38;5;247;48;5;248m▀\u001b[38;5;252;48;5;254m▀\u001b[38;5;249;48;5;248m▀\u001b[38;5;250;48;5;247m▀\u001b[38;5;246;48;5;249m▀\u001b[38;5;246;48;5;248m▀\u001b[38;5;246;48;5;247m▀\u001b[38;5;247;48;5;248m▀\u001b[38;5;252;48;5;254m▀\u001b[38;5;255;48;5;255m▀\u001b[38;5;255;48;5;255m▀\u001b[38;5;255;48;5;255m▀\u001b[38;5;255;48;5;255m▀\u001b[38;5;255;48;5;255m▀\u001b[38;5;255;48;5;255m▀\u001b[38;5;255;48;5;255m▀\u001b[38;5;244;48;5;244m▀\u001b[0m\n",
       "\u001b[0m\u001b[38;5;244;48;5;244m▀\u001b[38;5;255;48;5;255m▀\u001b[38;5;255;48;5;255m▀\u001b[38;5;255;48;5;255m▀\u001b[38;5;255;48;5;255m▀\u001b[38;5;255;48;5;255m▀\u001b[38;5;255;48;5;255m▀\u001b[38;5;254;48;5;254m▀\u001b[38;5;248;48;5;248m▀\u001b[38;5;247;48;5;248m▀\u001b[38;5;247;48;5;248m▀\u001b[38;5;251;48;5;247m▀\u001b[38;5;248;48;5;250m▀\u001b[38;5;250;48;5;251m▀\u001b[38;5;246;48;5;246m▀\u001b[38;5;251;48;5;246m▀\u001b[38;5;249;48;5;246m▀\u001b[38;5;250;48;5;247m▀\u001b[38;5;246;48;5;246m▀\u001b[38;5;246;48;5;248m▀\u001b[38;5;248;48;5;247m▀\u001b[38;5;248;48;5;249m▀\u001b[38;5;248;48;5;245m▀\u001b[38;5;247;48;5;247m▀\u001b[38;5;253;48;5;248m▀\u001b[38;5;255;48;5;255m▀\u001b[38;5;255;48;5;255m▀\u001b[38;5;255;48;5;255m▀\u001b[38;5;255;48;5;255m▀\u001b[38;5;255;48;5;255m▀\u001b[38;5;255;48;5;255m▀\u001b[38;5;255;48;5;255m▀\u001b[38;5;244;48;5;244m▀\u001b[0m\n",
       "\u001b[0m\u001b[38;5;244;48;5;244m▀\u001b[38;5;255;48;5;255m▀\u001b[38;5;255;48;5;255m▀\u001b[38;5;255;48;5;255m▀\u001b[38;5;255;48;5;255m▀\u001b[38;5;255;48;5;255m▀\u001b[38;5;254;48;5;249m▀\u001b[38;5;249;48;5;248m▀\u001b[38;5;248;48;5;250m▀\u001b[38;5;248;48;5;250m▀\u001b[38;5;249;48;5;251m▀\u001b[38;5;247;48;5;249m▀\u001b[38;5;248;48;5;246m▀\u001b[38;5;247;48;5;246m▀\u001b[38;5;246;48;5;246m▀\u001b[38;5;246;48;5;248m▀\u001b[38;5;249;48;5;250m▀\u001b[38;5;250;48;5;250m▀\u001b[38;5;250;48;5;249m▀\u001b[38;5;250;48;5;247m▀\u001b[38;5;247;48;5;246m▀\u001b[38;5;247;48;5;247m▀\u001b[38;5;246;48;5;248m▀\u001b[38;5;247;48;5;248m▀\u001b[38;5;247;48;5;248m▀\u001b[38;5;254;48;5;248m▀\u001b[38;5;255;48;5;255m▀\u001b[38;5;255;48;5;255m▀\u001b[38;5;255;48;5;255m▀\u001b[38;5;255;48;5;255m▀\u001b[38;5;255;48;5;255m▀\u001b[38;5;255;48;5;255m▀\u001b[38;5;244;48;5;244m▀\u001b[0m\n",
       "\u001b[0m\u001b[38;5;244;48;5;244m▀\u001b[38;5;255;48;5;255m▀\u001b[38;5;255;48;5;255m▀\u001b[38;5;255;48;5;255m▀\u001b[38;5;255;48;5;255m▀\u001b[38;5;252;48;5;248m▀\u001b[38;5;246;48;5;247m▀\u001b[38;5;247;48;5;247m▀\u001b[38;5;249;48;5;247m▀\u001b[38;5;251;48;5;249m▀\u001b[38;5;247;48;5;247m▀\u001b[38;5;248;48;5;253m▀\u001b[38;5;247;48;5;253m▀\u001b[38;5;248;48;5;250m▀\u001b[38;5;246;48;5;249m▀\u001b[38;5;246;48;5;247m▀\u001b[38;5;246;48;5;246m▀\u001b[38;5;248;48;5;249m▀\u001b[38;5;247;48;5;246m▀\u001b[38;5;245;48;5;245m▀\u001b[38;5;246;48;5;247m▀\u001b[38;5;246;48;5;246m▀\u001b[38;5;249;48;5;250m▀\u001b[38;5;248;48;5;249m▀\u001b[38;5;246;48;5;247m▀\u001b[38;5;246;48;5;248m▀\u001b[38;5;254;48;5;254m▀\u001b[38;5;255;48;5;255m▀\u001b[38;5;255;48;5;255m▀\u001b[38;5;255;48;5;255m▀\u001b[38;5;255;48;5;255m▀\u001b[38;5;255;48;5;255m▀\u001b[38;5;244;48;5;244m▀\u001b[0m\n",
       "\u001b[0m\u001b[38;5;244;48;5;244m▀\u001b[38;5;255;48;5;255m▀\u001b[38;5;255;48;5;255m▀\u001b[38;5;255;48;5;255m▀\u001b[38;5;253;48;5;251m▀\u001b[38;5;247;48;5;247m▀\u001b[38;5;247;48;5;246m▀\u001b[38;5;248;48;5;246m▀\u001b[38;5;249;48;5;247m▀\u001b[38;5;247;48;5;249m▀\u001b[38;5;247;48;5;251m▀\u001b[38;5;249;48;5;247m▀\u001b[38;5;247;48;5;246m▀\u001b[38;5;249;48;5;246m▀\u001b[38;5;249;48;5;246m▀\u001b[38;5;250;48;5;248m▀\u001b[38;5;248;48;5;252m▀\u001b[38;5;250;48;5;249m▀\u001b[38;5;246;48;5;246m▀\u001b[38;5;246;48;5;249m▀\u001b[38;5;251;48;5;250m▀\u001b[38;5;248;48;5;251m▀\u001b[38;5;249;48;5;250m▀\u001b[38;5;248;48;5;246m▀\u001b[38;5;249;48;5;248m▀\u001b[38;5;247;48;5;248m▀\u001b[38;5;250;48;5;247m▀\u001b[38;5;255;48;5;253m▀\u001b[38;5;255;48;5;255m▀\u001b[38;5;255;48;5;255m▀\u001b[38;5;255;48;5;255m▀\u001b[38;5;255;48;5;255m▀\u001b[38;5;244;48;5;244m▀\u001b[0m\n",
       "\u001b[0m\u001b[38;5;244;48;5;244m▀\u001b[38;5;255;48;5;255m▀\u001b[38;5;255;48;5;255m▀\u001b[38;5;255;48;5;252m▀\u001b[38;5;248;48;5;246m▀\u001b[38;5;247;48;5;251m▀\u001b[38;5;247;48;5;249m▀\u001b[38;5;247;48;5;247m▀\u001b[38;5;248;48;5;249m▀\u001b[38;5;248;48;5;247m▀\u001b[38;5;252;48;5;248m▀\u001b[38;5;253;48;5;248m▀\u001b[38;5;246;48;5;247m▀\u001b[38;5;246;48;5;246m▀\u001b[38;5;246;48;5;248m▀\u001b[38;5;247;48;5;248m▀\u001b[38;5;252;48;5;247m▀\u001b[38;5;248;48;5;247m▀\u001b[38;5;248;48;5;248m▀\u001b[38;5;248;48;5;247m▀\u001b[38;5;249;48;5;248m▀\u001b[38;5;251;48;5;247m▀\u001b[38;5;246;48;5;246m▀\u001b[38;5;250;48;5;251m▀\u001b[38;5;250;48;5;253m▀\u001b[38;5;249;48;5;247m▀\u001b[38;5;248;48;5;248m▀\u001b[38;5;250;48;5;253m▀\u001b[38;5;255;48;5;251m▀\u001b[38;5;255;48;5;255m▀\u001b[38;5;255;48;5;255m▀\u001b[38;5;255;48;5;255m▀\u001b[38;5;244;48;5;244m▀\u001b[0m\n",
       "\u001b[0m\u001b[38;5;238m▀\u001b[38;5;244m▀\u001b[38;5;244m▀\u001b[38;5;241m▀\u001b[38;5;240m▀\u001b[38;5;243m▀\u001b[38;5;241m▀\u001b[38;5;240m▀\u001b[38;5;239m▀\u001b[38;5;240m▀\u001b[38;5;239m▀\u001b[38;5;240m▀\u001b[38;5;239m▀\u001b[38;5;239m▀\u001b[38;5;240m▀\u001b[38;5;239m▀\u001b[38;5;240m▀\u001b[38;5;241m▀\u001b[38;5;239m▀\u001b[38;5;240m▀\u001b[38;5;239m▀\u001b[38;5;239m▀\u001b[38;5;239m▀\u001b[38;5;240m▀\u001b[38;5;240m▀\u001b[38;5;238m▀\u001b[38;5;240m▀\u001b[38;5;243m▀\u001b[38;5;240m▀\u001b[38;5;243m▀\u001b[38;5;244m▀\u001b[38;5;244m▀\u001b[38;5;238m▀\u001b[0m"
      ]
     },
     "metadata": {},
     "output_type": "display_data"
    }
   ],
   "source": [
    "let\n",
    "    # initialize\n",
    "    index_to_visualize = 240; # TODO: pick a value up to t ∈ [1, T]\n",
    "    Gray.(1 .- stochastic_frames[index_to_visualize]) # render the frame\n",
    "end"
   ]
  },
  {
   "cell_type": "code",
   "execution_count": 11,
   "id": "470d3b70",
   "metadata": {},
   "outputs": [],
   "source": [
    "do_you_see_stochastic_rule_30_simulation_figure = true; # set to true if you see the figure above"
   ]
  },
  {
   "cell_type": "markdown",
   "id": "61a6b6f0",
   "metadata": {},
   "source": [
    "__What is different?__\n",
    "\n",
    "* The stochastic Rule 30 produces markedly different patterns compared to the deterministic simulation, even though both use identical underlying rules. The introduction of probabilistic state transitions and cooldown periods fundamentally alters the system's evolution, creating patterns that appear more fragmented and sparse than their deterministic counterpart.\n",
    "\n",
    "* Instead of the smooth, continuous triangular expansion seen in the deterministic case, the stochastic simulation generates interrupted patterns with gaps and isolated clusters of activity. The probabilistic nature means that not every cell updates at each time step, creating a stuttering effect where pattern propagation becomes irregular and unpredictable. This leads to regions where the characteristic Rule 30 structures are broken or delayed, resulting in a more heterogeneous overall appearance.\n",
    "\n",
    "* The cooldown mechanism introduces temporal dependencies that don't exist in the deterministic version, where recently updated cells must wait before participating in future transitions. This creates additional complexity and can lead to the formation of transient stable regions where activity becomes temporarily suppressed. \n",
    "\n",
    "The overall pattern retains some recognizable Rule 30 characteristics but with significantly more variability and less predictable boundaries, demonstrating how stochastic elements can dramatically alter emergent behavior while preserving the underlying mathematical structure.\n",
    "___"
   ]
  },
  {
   "cell_type": "markdown",
   "id": "4745e1a2",
   "metadata": {},
   "source": [
    "## Tests\n",
    "\n",
    "In the code block below, we check some values in your notebook and give you feedback on which items are correct or different. Unhide the code block below (if you are curious) to see how we implemented the tests and what we are testing."
   ]
  },
  {
   "cell_type": "code",
   "execution_count": 12,
   "id": "0d75eb86",
   "metadata": {},
   "outputs": [
    {
     "name": "stdout",
     "output_type": "stream",
     "text": [
      "\u001b[0m\u001b[1mTest Summary:                    | \u001b[22m\u001b[32m\u001b[1mPass  \u001b[22m\u001b[39m\u001b[36m\u001b[1mTotal  \u001b[22m\u001b[39m\u001b[0m\u001b[1mTime\u001b[22m\n",
      "Tests for PS1 Wolfram Simulation | \u001b[32m  12  \u001b[39m\u001b[36m   12  \u001b[39m\u001b[0m0.2s\n",
      "  Setup                          | \u001b[32m   4  \u001b[39m\u001b[36m    4  \u001b[39m\u001b[0m0.2s\n",
      "  Deterministic simulation tests | \u001b[32m   4  \u001b[39m\u001b[36m    4  \u001b[39m\u001b[0m0.0s\n",
      "  Stochastic simulation tests    | \u001b[32m   4  \u001b[39m\u001b[36m    4  \u001b[39m\u001b[0m0.0s\n"
     ]
    }
   ],
   "source": [
    "@testset verbose = true \"Tests for PS1 Wolfram Simulation\" begin\n",
    "\n",
    "    @testset \"Setup\" begin\n",
    "\n",
    "        # @test _INCLUDE_STUDENT_JL_CALLED == true; # the student version of the include file was called\n",
    "        @test rulemodel.number_of_colors == 2\n",
    "        @test rulemodel.radius == 3\n",
    "        @test isnothing(rulemodel.rule) == false; # rule is not nothing\n",
    "        @test isempty(rulemodel.rule) == false; # rule is not empty\n",
    "    end\n",
    "\n",
    "    @testset \"Deterministic simulation tests\" begin\n",
    "        @test isnothing(base_frames) == false; # base frames is not nothing\n",
    "        @test isempty(base_frames) == false; # base frames is not empty\n",
    "        @test size(base_frames[1]) == (number_of_steps, number_of_states)\n",
    "        @test do_you_see_deterministic_rule_30_simulation_figure == true\n",
    "    end\n",
    "\n",
    "    @testset \"Stochastic simulation tests\" begin\n",
    "        @test isnothing(stochastic_frames) == false; # stochastic frames is not nothing\n",
    "        @test isempty(stochastic_frames) == false; # stochastic frames is not empty\n",
    "        @test size(stochastic_frames[1]) == (number_of_steps, number_of_states)\n",
    "        @test do_you_see_stochastic_rule_30_simulation_figure == true\n",
    "    end\n",
    "end;"
   ]
  }
 ],
 "metadata": {
  "kernelspec": {
   "display_name": "Julia 1.11.6",
   "language": "julia",
   "name": "julia-1.11"
  },
  "language_info": {
   "file_extension": ".jl",
   "mimetype": "application/julia",
   "name": "julia",
   "version": "1.11.6"
  }
 },
 "nbformat": 4,
 "nbformat_minor": 5
}
