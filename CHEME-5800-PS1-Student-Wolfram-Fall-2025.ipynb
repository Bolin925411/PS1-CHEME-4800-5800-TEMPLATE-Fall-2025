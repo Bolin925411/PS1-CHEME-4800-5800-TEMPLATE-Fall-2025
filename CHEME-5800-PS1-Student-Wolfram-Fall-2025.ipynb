{
 "cells": [
  {
   "cell_type": "markdown",
   "id": "d66a0718-730c-4903-9c30-c48b4267c91e",
   "metadata": {},
   "source": [
    "# Graded Codio Activity: Building Probabilistic Cellular Automata\n",
    "In this activity, we will analyze a program that computes two-color one-dimensional cellular automata. In particular, we'll simulate [Rule 30](https://en.wikipedia.org/wiki/Rule_30), a one-dimensional cellular automaton rule introduced by Stephen Wolfram in 1983. It is particularly interesting because it produces complex, seemingly random patterns from simple, well-defined rules.\n",
    "\n",
    "We'll look at two formulations of this model. After we set up the computational environment, we'll simulate a system described by a deterministic one-dimensional cellular automaton in Task 1, and then in Task 2 we'll explore a probabilistic version of the same model.\n",
    "\n",
    "This is a fascinating area of study that combines elements of physics, computer science, and mathematics. \n",
    "\n",
    "> __Applications?__\n",
    ">\n",
    "> Cellular automata have been used to model a wide range of phenomena, from the behavior of gases to the spread of diseases. \n",
    "> * Rule 30 has found practical applications in cryptography and random number generation. Mathematica software using Rule 30 as part of its default random number generator for over two decades, see: Wolfram, 2002, \"A New Kind of Science\"\n",
    "> * Additionally, cellular automata models have been successfully applied to study pattern formation in biological systems, including shell pigmentation patterns in mollusks and the development of cellular tissues, see: Ermentrout GB, Edelstein-Keshet L. Cellular automata approaches to biological modeling. J Theor Biol. 1993 Jan 7;160(1):97-133. doi: 10.1006/jtbi.1993.1007. PMID: 8474249.\n",
    ">\n",
    "> Today, we will explore the world of cellular automata and their applications.\n",
    "\n",
    "Very cool stuff, with many practical and theoretical implications. Let's get started!\n",
    "___"
   ]
  },
  {
   "cell_type": "markdown",
   "id": "67449618",
   "metadata": {},
   "source": [
    "## Setup, Data, and Prerequisites\n",
    "First, we set up the computational environment by including the `Include.jl` file and loading any needed resources.\n",
    "\n",
    "> __Include:___ The [include command](https://docs.julialang.org/en/v1/base/base/#include) evaluates the contents of the input source file, `Include.jl`, in the notebook's global scope. The `Include.jl` file sets paths, loads required external packages, etc. For additional information on the Julia functions and types used in this material, see the [Julia programming language documentation](https://docs.julialang.org/en/v1/). "
   ]
  },
  {
   "cell_type": "code",
   "execution_count": 1,
   "id": "b4cc6e49",
   "metadata": {},
   "outputs": [],
   "source": [
    "include(joinpath(@__DIR__, \"Include-student.jl\"));"
   ]
  },
  {
   "cell_type": "markdown",
   "id": "efd94820",
   "metadata": {},
   "source": [
    "In addition to standard Julia libraries, we'll also use [the `VLDataScienceMachineLearningPackage.jl` package](https://github.com/varnerlab/VLDataScienceMachineLearningPackage.jl), check out [the documentation](https://varnerlab.github.io/VLDataScienceMachineLearningPackage.jl/dev/) for more information on the functions, types and data used in this material. "
   ]
  },
  {
   "cell_type": "markdown",
   "id": "8b833109",
   "metadata": {},
   "source": [
    "### Constants\n",
    "Before we get to the simulations, we need to set some constants. See the descriptions in the comments for each constant for more details, permissible values, units, etc."
   ]
  },
  {
   "cell_type": "code",
   "execution_count": 2,
   "id": "8b36c8de",
   "metadata": {},
   "outputs": [],
   "source": [
    "# what rule do we want to see?\n",
    "colors = 2; # black and white\n",
    "radius = 3; # radius of the rule - we look at three states\n",
    "rule_index = 30; # what rule do we want to see?\n",
    "number_of_steps = 240; # number of time steps > 0\n",
    "number_of_states = 2^8; # number of states in the system > 3\n",
    "initial = zeros(Int64, number_of_states); # initial condition of the system\n",
    "initial[round(number_of_states/2) |> Int] = 1; # middle state, is 1, all other states are 0"
   ]
  },
  {
   "cell_type": "markdown",
   "id": "1dd9d527",
   "metadata": {},
   "source": [
    "___"
   ]
  },
  {
   "cell_type": "markdown",
   "id": "ec6a5e35",
   "metadata": {},
   "source": [
    "## Task 1: Deterministic Cellular Automata\n",
    "In this task, we will implement a deterministic one-dimensional cellular automaton [using Rule 30](https://en.wikipedia.org/wiki/Rule_30). We'll start with a simple initial condition and evolve the system over a number of time steps. Let's build a model of the one-dimensional grid world, which we model [as an instance of the `MyOneDimensionalElementaryWolframRuleModel` type](https://varnerlab.github.io/VLDataScienceMachineLearningPackage.jl/dev/types/#VLDataScienceMachineLearningPackage.MyOneDimensionalElementaryWolframRuleModel). \n",
    "\n",
    "We construct [a `MyOneDimensionalElementaryWolframRuleModel` instance](https://varnerlab.github.io/VLDataScienceMachineLearningPackage.jl/dev/types/#VLDataScienceMachineLearningPackage.MyOneDimensionalElementaryWolframRuleModel) using [a `build(...)` method](https://varnerlab.github.io/VLDataScienceMachineLearningPackage.jl/dev/factory/), that takes the index of the rule we want to simulate, the number of possible states for each grid element (colors) and the width of the neighborhood that a cell looks at to make a decision.\n",
    "\n",
    "Let's store our world model in the `rulemodel::MyOneDimensionalElementaryWolframRuleModel` variable."
   ]
  },
  {
   "cell_type": "code",
   "execution_count": null,
   "id": "9e9368cc",
   "metadata": {},
   "outputs": [],
   "source": [
    "rulemodel = let\n",
    "\n",
    "    # initialize -\n",
    "    rulemodel = nothing;\n",
    "\n",
    "    # build the rule model -\n",
    "    rulemodel = build(MyOneDimensionalElementaryWolframRuleModel, (\n",
    "        index=rule_index, colors=colors, radius=radius\n",
    "    ));\n",
    "\n",
    "    rulemodel; # return\n",
    "end"
   ]
  },
  {
   "cell_type": "markdown",
   "id": "3fc4ec91",
   "metadata": {},
   "source": [
    "What's in the `rulemodel::MyOneDimensionalElementaryWolframRuleModel` model? We'll we can see the fields of the model type using [the `fieldnames(...)` function](https://docs.julialang.org/en/v1/base/base/#Base.fieldnames). Let's take a look:"
   ]
  },
  {
   "cell_type": "code",
   "execution_count": 4,
   "id": "13b791ea",
   "metadata": {},
   "outputs": [
    {
     "data": {
      "text/plain": [
       "(:index, :radius, :number_of_colors, :rule)"
      ]
     },
     "metadata": {},
     "output_type": "display_data"
    }
   ],
   "source": [
    "typeof(rulemodel) |> fieldnames # we can see the fields of the model type using the fieldnames function"
   ]
  },
  {
   "cell_type": "markdown",
   "id": "04cde7d4",
   "metadata": {},
   "source": [
    "Most the stored data is what you would expect, but there is one interesting field: `rule`. This field contains the specific rule being applied in the simulation, which is crucial for understanding the dynamics of the system."
   ]
  },
  {
   "cell_type": "code",
   "execution_count": 5,
   "id": "50028861",
   "metadata": {},
   "outputs": [
    {
     "data": {
      "text/plain": [
       "Dict{Int64, Int64} with 8 entries:\n",
       "  0 => 0\n",
       "  4 => 1\n",
       "  5 => 0\n",
       "  6 => 0\n",
       "  2 => 1\n",
       "  7 => 0\n",
       "  3 => 1\n",
       "  1 => 1"
      ]
     },
     "metadata": {},
     "output_type": "display_data"
    }
   ],
   "source": [
    "rulemodel.rule"
   ]
  },
  {
   "cell_type": "markdown",
   "id": "cb5dfa34",
   "metadata": {},
   "source": [
    "<div>\n",
    "    <center>\n",
    "      <img\n",
    "        src=\"figs/Rule-30-NeedToRedraw-CutFromWeb.png\"\n",
    "        alt=\"Rule 30 Example\"\n",
    "      />\n",
    "    </center>\n",
    "  </div>"
   ]
  },
  {
   "cell_type": "markdown",
   "id": "2061a8e1",
   "metadata": {},
   "source": [
    "The top row shows the _current state_ of the system, while the bottom row shows the _next state_ after applying the rule. This visualization helps in understanding how the rule transforms the system over time.\n",
    "\n",
    "For example, consider the fartherest right-hand state. If at $t$ the neighbors of state $i$ are all in state `0` (white), then according to Rule 30, the next state of $i$ will be `0` (white). However, if the right-most neighbor is in state `1` (black), but all others are `0` (white), then the next state of cell $i$ will be `1` (black).\n",
    "\n",
    "Ok, so I get that, but where how do we compute the `rule` field in the model. This is going to blow your mind!\n",
    "* The keys of the rule dictionary are the base $b$ representations of the neighborhood states, e.g., $(000)_{2} = 0$, $(001)_{2} = 1$, $(010)_{2} = 2$, $(011)_{2} = 3$, $(100)_{2} = 4$, $(101)_{2} = 5$, $(110)_{2} = 6$, $(111)_{2} = 7$. The values are the _next states_ of cell $i$ after applying the rule. \n",
    "* Where does rule 30 come from? Look at the next states. The next states written in binary $(00011110)_{2} = 30$. Super cool. \n",
    "* The state-next state diagram for any configuration looks like a simple (upsidedown) ternary tree\n",
    "\n",
    "Thus, in an elementary Wolfram type cellular automata model we exhaustively compute the every possible configuration of the a cell's neighborhood, and then map that to the next state.\n",
    "\n",
    "If you play with the rule index, you'll see how the different configurations lead to different behaviors in the system. "
   ]
  },
  {
   "cell_type": "markdown",
   "id": "06c96a31",
   "metadata": {},
   "source": [
    "### Standard Simulation Algorithm\n",
    "Now that we have a model of our one-dimensional world, and the rules that govern it, let's simulate the dynamics of the world forward in time. To do this, we call [the `simulate(...)` method](src/Wolfram.jl), either as a deterministic world or a stochastic world. \n",
    "\n",
    "Let's sketch out the deterministic simulation algorithm in pseudo code.\n",
    "\n",
    "__Initialize__: Given the initial state cell state vector $\\mathbf{s}\\in\\mathbb{Z}^{n}_{0,1}$ where $n$ is the number of cells in the one-dimensional grid, the number of time steps $T$ and a rule $R:N(\\mathbf{s})\\to\\mathbf{s}^{\\prime}$, where $N(\\mathbf{s})$ is the neighborhood of a cell in the state vector. We assume periodic boundary conditions for the neighborhood function.\n",
    "\n",
    "Time proceeds in discrete steps, where we initialize the time index $t\\gets{0}$.\n",
    "\n",
    "For each $t=1,\\ldots,T$ __do__:\n",
    "1. Get the current state vector: $\\mathbf{s}\\gets\\mathbf{s}_{t-1}$\n",
    "1. Initialize temporary state vector: $\\mathbf{s}^{\\text{temp}} \\gets \\mathbf{0}$\n",
    "1. For each $i=1,\\ldots,n$ __do__:\n",
    "    1. Compute the neighborhood $\\hat{\\mathbf{s}}\\gets{N}(i,\\mathbf{s})$ of the cell at location $i$.\n",
    "    2. Apply rule $R$ to the neighborhood of cell $i$, to get the next state: $s_{i}^{\\prime}\\gets R(\\hat{\\mathbf{s}})$\n",
    "    3. Store the updated state in temporary vector: $\\mathbf{s}^{\\text{temp}}[i]\\gets s_{i}^{\\prime}$\n",
    "1. Update state for next iteration: $\\mathbf{s}_{t} \\gets \\mathbf{s}^{\\text{temp}}$\n",
    "\n",
    "At the end of the time step $t$, we have the updated state vector $\\mathbf{s}_{t}$. \n",
    "> __Why a temp state variable?__ The temporary buffer ensures that all cells read from the same consistent state at time $t-1$, which is required for the synchronous update semantics of cellular automata. \n",
    "\n",
    "We can store these vectors in a buffer and can then replay the simulation from any time step. Alternatively, we could store $T\\times{n}$ simulation _frames_ where at each time step we are updating a row in the two-dimensional array. This is probably not the most memory efficient choice!\n",
    "\n",
    "We take the frame strategy, which we store in the `base_frames::Dict{Int64, Array{Int64, 2}}` dictionary."
   ]
  },
  {
   "cell_type": "code",
   "execution_count": 6,
   "id": "aa07a2ae",
   "metadata": {},
   "outputs": [],
   "source": [
    "base_frames = simulate(rulemodel, initial, steps=number_of_steps, algorithm  =  WolframDeterministicSimulation());"
   ]
  },
  {
   "cell_type": "markdown",
   "id": "0c49fcf2",
   "metadata": {},
   "source": [
    "We can visualize the simulation results using a variety of techniques, such as plotting the state of the system at different time steps or creating animations to show the evolution of the system over time.\n",
    "\n",
    "Here, let's visualize the individual simulation _frames_ stored in the `base_frames` dictionary at some time index you select using [the `Images.jl` package](https://github.com/JuliaImages/Images.jl) to display the frames as grayscale images.\n"
   ]
  },
  {
   "cell_type": "code",
   "execution_count": 7,
   "id": "b35e90d1",
   "metadata": {},
   "outputs": [
    {
     "data": {
      "image/png": "[encoded data removed]",
      "text/html": [
       "<img src=\"data:image/png;base64,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\">"
      ],
      "text/plain": [
       "\u001b[0m\u001b[38;5;238;48;5;244m▀\u001b[38;5;244;48;5;255m▀\u001b[38;5;244;48;5;255m▀\u001b[38;5;244;48;5;255m▀\u001b[38;5;244;48;5;255m▀\u001b[38;5;244;48;5;255m▀\u001b[38;5;244;48;5;255m▀\u001b[38;5;244;48;5;255m▀\u001b[38;5;244;48;5;255m▀\u001b[38;5;244;48;5;255m▀\u001b[38;5;244;48;5;255m▀\u001b[38;5;244;48;5;255m▀\u001b[38;5;244;48;5;255m▀\u001b[38;5;244;48;5;255m▀\u001b[38;5;244;48;5;255m▀\u001b[38;5;243;48;5;248m▀\u001b[38;5;240;48;5;244m▀\u001b[38;5;243;48;5;250m▀\u001b[38;5;244;48;5;255m▀\u001b[38;5;244;48;5;255m▀\u001b[38;5;244;48;5;255m▀\u001b[38;5;244;48;5;255m▀\u001b[38;5;244;48;5;255m▀\u001b[38;5;244;48;5;255m▀\u001b[38;5;244;48;5;255m▀\u001b[38;5;244;48;5;255m▀\u001b[38;5;244;48;5;255m▀\u001b[38;5;244;48;5;255m▀\u001b[38;5;244;48;5;255m▀\u001b[38;5;244;48;5;255m▀\u001b[38;5;244;48;5;255m▀\u001b[38;5;244;48;5;255m▀\u001b[38;5;238;48;5;244m▀\u001b[0m\n",
       "\u001b[0m\u001b[38;5;244;48;5;244m▀\u001b[38;5;255;48;5;255m▀\u001b[38;5;255;48;5;255m▀\u001b[38;5;255;48;5;255m▀\u001b[38;5;255;48;5;255m▀\u001b[38;5;255;48;5;255m▀\u001b[38;5;255;48;5;255m▀\u001b[38;5;255;48;5;255m▀\u001b[38;5;255;48;5;255m▀\u001b[38;5;255;48;5;255m▀\u001b[38;5;255;48;5;255m▀\u001b[38;5;255;48;5;255m▀\u001b[38;5;255;48;5;255m▀\u001b[38;5;255;48;5;248m▀\u001b[38;5;248;48;5;243m▀\u001b[38;5;243;48;5;243m▀\u001b[38;5;243;48;5;244m▀\u001b[38;5;244;48;5;244m▀\u001b[38;5;250;48;5;244m▀\u001b[38;5;255;48;5;250m▀\u001b[38;5;255;48;5;255m▀\u001b[38;5;255;48;5;255m▀\u001b[38;5;255;48;5;255m▀\u001b[38;5;255;48;5;255m▀\u001b[38;5;255;48;5;255m▀\u001b[38;5;255;48;5;255m▀\u001b[38;5;255;48;5;255m▀\u001b[38;5;255;48;5;255m▀\u001b[38;5;255;48;5;255m▀\u001b[38;5;255;48;5;255m▀\u001b[38;5;255;48;5;255m▀\u001b[38;5;255;48;5;255m▀\u001b[38;5;244;48;5;244m▀\u001b[0m\n",
       "\u001b[0m\u001b[38;5;244;48;5;244m▀\u001b[38;5;255;48;5;255m▀\u001b[38;5;255;48;5;255m▀\u001b[38;5;255;48;5;255m▀\u001b[38;5;255;48;5;255m▀\u001b[38;5;255;48;5;255m▀\u001b[38;5;255;48;5;255m▀\u001b[38;5;255;48;5;255m▀\u001b[38;5;255;48;5;255m▀\u001b[38;5;255;48;5;255m▀\u001b[38;5;255;48;5;255m▀\u001b[38;5;255;48;5;248m▀\u001b[38;5;248;48;5;243m▀\u001b[38;5;243;48;5;243m▀\u001b[38;5;243;48;5;244m▀\u001b[38;5;244;48;5;243m▀\u001b[38;5;244;48;5;244m▀\u001b[38;5;244;48;5;244m▀\u001b[38;5;244;48;5;244m▀\u001b[38;5;245;48;5;244m▀\u001b[38;5;250;48;5;244m▀\u001b[38;5;255;48;5;250m▀\u001b[38;5;255;48;5;255m▀\u001b[38;5;255;48;5;255m▀\u001b[38;5;255;48;5;255m▀\u001b[38;5;255;48;5;255m▀\u001b[38;5;255;48;5;255m▀\u001b[38;5;255;48;5;255m▀\u001b[38;5;255;48;5;255m▀\u001b[38;5;255;48;5;255m▀\u001b[38;5;255;48;5;255m▀\u001b[38;5;255;48;5;255m▀\u001b[38;5;244;48;5;244m▀\u001b[0m\n",
       "\u001b[0m\u001b[38;5;244;48;5;244m▀\u001b[38;5;255;48;5;255m▀\u001b[38;5;255;48;5;255m▀\u001b[38;5;255;48;5;255m▀\u001b[38;5;255;48;5;255m▀\u001b[38;5;255;48;5;255m▀\u001b[38;5;255;48;5;255m▀\u001b[38;5;255;48;5;255m▀\u001b[38;5;255;48;5;255m▀\u001b[38;5;255;48;5;248m▀\u001b[38;5;248;48;5;243m▀\u001b[38;5;243;48;5;243m▀\u001b[38;5;243;48;5;244m▀\u001b[38;5;244;48;5;244m▀\u001b[38;5;244;48;5;244m▀\u001b[38;5;246;48;5;244m▀\u001b[38;5;245;48;5;244m▀\u001b[38;5;245;48;5;244m▀\u001b[38;5;244;48;5;244m▀\u001b[38;5;244;48;5;244m▀\u001b[38;5;244;48;5;244m▀\u001b[38;5;244;48;5;244m▀\u001b[38;5;250;48;5;244m▀\u001b[38;5;255;48;5;250m▀\u001b[38;5;255;48;5;255m▀\u001b[38;5;255;48;5;255m▀\u001b[38;5;255;48;5;255m▀\u001b[38;5;255;48;5;255m▀\u001b[38;5;255;48;5;255m▀\u001b[38;5;255;48;5;255m▀\u001b[38;5;255;48;5;255m▀\u001b[38;5;255;48;5;255m▀\u001b[38;5;244;48;5;244m▀\u001b[0m\n",
       "\u001b[0m\u001b[38;5;244;48;5;244m▀\u001b[38;5;255;48;5;255m▀\u001b[38;5;255;48;5;255m▀\u001b[38;5;255;48;5;255m▀\u001b[38;5;255;48;5;255m▀\u001b[38;5;255;48;5;255m▀\u001b[38;5;255;48;5;255m▀\u001b[38;5;255;48;5;248m▀\u001b[38;5;248;48;5;243m▀\u001b[38;5;243;48;5;243m▀\u001b[38;5;243;48;5;244m▀\u001b[38;5;244;48;5;244m▀\u001b[38;5;244;48;5;244m▀\u001b[38;5;244;48;5;244m▀\u001b[38;5;244;48;5;244m▀\u001b[38;5;243;48;5;244m▀\u001b[38;5;244;48;5;243m▀\u001b[38;5;243;48;5;244m▀\u001b[38;5;244;48;5;244m▀\u001b[38;5;244;48;5;244m▀\u001b[38;5;244;48;5;244m▀\u001b[38;5;244;48;5;244m▀\u001b[38;5;244;48;5;244m▀\u001b[38;5;247;48;5;246m▀\u001b[38;5;250;48;5;244m▀\u001b[38;5;255;48;5;250m▀\u001b[38;5;255;48;5;255m▀\u001b[38;5;255;48;5;255m▀\u001b[38;5;255;48;5;255m▀\u001b[38;5;255;48;5;255m▀\u001b[38;5;255;48;5;255m▀\u001b[38;5;255;48;5;255m▀\u001b[38;5;244;48;5;244m▀\u001b[0m\n",
       "\u001b[0m\u001b[38;5;244;48;5;244m▀\u001b[38;5;255;48;5;255m▀\u001b[38;5;255;48;5;255m▀\u001b[38;5;255;48;5;255m▀\u001b[38;5;255;48;5;255m▀\u001b[38;5;255;48;5;248m▀\u001b[38;5;248;48;5;243m▀\u001b[38;5;243;48;5;243m▀\u001b[38;5;243;48;5;244m▀\u001b[38;5;244;48;5;244m▀\u001b[38;5;244;48;5;244m▀\u001b[38;5;244;48;5;244m▀\u001b[38;5;244;48;5;244m▀\u001b[38;5;244;48;5;244m▀\u001b[38;5;244;48;5;246m▀\u001b[38;5;244;48;5;244m▀\u001b[38;5;243;48;5;244m▀\u001b[38;5;243;48;5;244m▀\u001b[38;5;243;48;5;244m▀\u001b[38;5;243;48;5;243m▀\u001b[38;5;244;48;5;244m▀\u001b[38;5;244;48;5;245m▀\u001b[38;5;243;48;5;245m▀\u001b[38;5;244;48;5;244m▀\u001b[38;5;244;48;5;244m▀\u001b[38;5;244;48;5;244m▀\u001b[38;5;250;48;5;244m▀\u001b[38;5;255;48;5;250m▀\u001b[38;5;255;48;5;255m▀\u001b[38;5;255;48;5;255m▀\u001b[38;5;255;48;5;255m▀\u001b[38;5;255;48;5;255m▀\u001b[38;5;244;48;5;244m▀\u001b[0m\n",
       "\u001b[0m\u001b[38;5;244;48;5;244m▀\u001b[38;5;255;48;5;255m▀\u001b[38;5;255;48;5;255m▀\u001b[38;5;255;48;5;248m▀\u001b[38;5;248;48;5;243m▀\u001b[38;5;243;48;5;243m▀\u001b[38;5;243;48;5;244m▀\u001b[38;5;244;48;5;244m▀\u001b[38;5;244;48;5;244m▀\u001b[38;5;244;48;5;244m▀\u001b[38;5;244;48;5;245m▀\u001b[38;5;245;48;5;244m▀\u001b[38;5;244;48;5;244m▀\u001b[38;5;244;48;5;246m▀\u001b[38;5;243;48;5;243m▀\u001b[38;5;244;48;5;244m▀\u001b[38;5;244;48;5;244m▀\u001b[38;5;245;48;5;244m▀\u001b[38;5;244;48;5;244m▀\u001b[38;5;244;48;5;244m▀\u001b[38;5;244;48;5;245m▀\u001b[38;5;244;48;5;247m▀\u001b[38;5;244;48;5;244m▀\u001b[38;5;244;48;5;243m▀\u001b[38;5;244;48;5;244m▀\u001b[38;5;244;48;5;245m▀\u001b[38;5;244;48;5;245m▀\u001b[38;5;245;48;5;244m▀\u001b[38;5;250;48;5;244m▀\u001b[38;5;255;48;5;250m▀\u001b[38;5;255;48;5;255m▀\u001b[38;5;255;48;5;255m▀\u001b[38;5;244;48;5;244m▀\u001b[0m\n",
       "\u001b[0m\u001b[38;5;244;48;5;243m▀\u001b[38;5;255;48;5;248m▀\u001b[38;5;248;48;5;243m▀\u001b[38;5;243;48;5;243m▀\u001b[38;5;243;48;5;244m▀\u001b[38;5;244;48;5;244m▀\u001b[38;5;244;48;5;244m▀\u001b[38;5;244;48;5;244m▀\u001b[38;5;244;48;5;245m▀\u001b[38;5;245;48;5;244m▀\u001b[38;5;244;48;5;243m▀\u001b[38;5;243;48;5;244m▀\u001b[38;5;244;48;5;244m▀\u001b[38;5;245;48;5;244m▀\u001b[38;5;244;48;5;244m▀\u001b[38;5;244;48;5;244m▀\u001b[38;5;243;48;5;244m▀\u001b[38;5;244;48;5;244m▀\u001b[38;5;244;48;5;244m▀\u001b[38;5;244;48;5;244m▀\u001b[38;5;244;48;5;244m▀\u001b[38;5;245;48;5;244m▀\u001b[38;5;243;48;5;244m▀\u001b[38;5;244;48;5;244m▀\u001b[38;5;244;48;5;243m▀\u001b[38;5;244;48;5;244m▀\u001b[38;5;244;48;5;244m▀\u001b[38;5;244;48;5;244m▀\u001b[38;5;244;48;5;244m▀\u001b[38;5;244;48;5;244m▀\u001b[38;5;250;48;5;244m▀\u001b[38;5;255;48;5;250m▀\u001b[38;5;244;48;5;243m▀\u001b[0m\n",
       "\u001b[0m\u001b[38;5;238;48;5;238m▀\u001b[38;5;243;48;5;244m▀\u001b[38;5;243;48;5;243m▀\u001b[38;5;244;48;5;244m▀\u001b[38;5;244;48;5;244m▀\u001b[38;5;244;48;5;244m▀\u001b[38;5;244;48;5;245m▀\u001b[38;5;245;48;5;244m▀\u001b[38;5;244;48;5;243m▀\u001b[38;5;243;48;5;244m▀\u001b[38;5;244;48;5;244m▀\u001b[38;5;244;48;5;244m▀\u001b[38;5;245;48;5;244m▀\u001b[38;5;244;48;5;245m▀\u001b[38;5;244;48;5;243m▀\u001b[38;5;244;48;5;244m▀\u001b[38;5;245;48;5;244m▀\u001b[38;5;244;48;5;244m▀\u001b[38;5;243;48;5;244m▀\u001b[38;5;244;48;5;244m▀\u001b[38;5;244;48;5;244m▀\u001b[38;5;244;48;5;246m▀\u001b[38;5;244;48;5;244m▀\u001b[38;5;244;48;5;244m▀\u001b[38;5;244;48;5;244m▀\u001b[38;5;244;48;5;244m▀\u001b[38;5;244;48;5;245m▀\u001b[38;5;243;48;5;245m▀\u001b[38;5;245;48;5;245m▀\u001b[38;5;244;48;5;244m▀\u001b[38;5;244;48;5;244m▀\u001b[38;5;248;48;5;246m▀\u001b[38;5;240;48;5;238m▀\u001b[0m\n",
       "\u001b[0m\u001b[38;5;238;48;5;238m▀\u001b[38;5;244;48;5;244m▀\u001b[38;5;243;48;5;243m▀\u001b[38;5;244;48;5;244m▀\u001b[38;5;244;48;5;245m▀\u001b[38;5;245;48;5;244m▀\u001b[38;5;244;48;5;243m▀\u001b[38;5;243;48;5;244m▀\u001b[38;5;244;48;5;244m▀\u001b[38;5;244;48;5;244m▀\u001b[38;5;244;48;5;244m▀\u001b[38;5;244;48;5;244m▀\u001b[38;5;244;48;5;244m▀\u001b[38;5;244;48;5;244m▀\u001b[38;5;244;48;5;244m▀\u001b[38;5;243;48;5;244m▀\u001b[38;5;244;48;5;245m▀\u001b[38;5;244;48;5;244m▀\u001b[38;5;244;48;5;244m▀\u001b[38;5;244;48;5;243m▀\u001b[38;5;244;48;5;244m▀\u001b[38;5;245;48;5;245m▀\u001b[38;5;244;48;5;244m▀\u001b[38;5;244;48;5;244m▀\u001b[38;5;244;48;5;244m▀\u001b[38;5;244;48;5;244m▀\u001b[38;5;244;48;5;244m▀\u001b[38;5;244;48;5;245m▀\u001b[38;5;245;48;5;244m▀\u001b[38;5;244;48;5;244m▀\u001b[38;5;244;48;5;244m▀\u001b[38;5;245;48;5;244m▀\u001b[38;5;238;48;5;238m▀\u001b[0m\n",
       "\u001b[0m\u001b[38;5;237;48;5;238m▀\u001b[38;5;244;48;5;244m▀\u001b[38;5;244;48;5;245m▀\u001b[38;5;244;48;5;244m▀\u001b[38;5;244;48;5;244m▀\u001b[38;5;243;48;5;244m▀\u001b[38;5;244;48;5;244m▀\u001b[38;5;244;48;5;244m▀\u001b[38;5;244;48;5;244m▀\u001b[38;5;244;48;5;244m▀\u001b[38;5;244;48;5;244m▀\u001b[38;5;244;48;5;244m▀\u001b[38;5;244;48;5;244m▀\u001b[38;5;245;48;5;245m▀\u001b[38;5;244;48;5;244m▀\u001b[38;5;247;48;5;245m▀\u001b[38;5;247;48;5;245m▀\u001b[38;5;244;48;5;244m▀\u001b[38;5;245;48;5;244m▀\u001b[38;5;244;48;5;244m▀\u001b[38;5;244;48;5;243m▀\u001b[38;5;244;48;5;244m▀\u001b[38;5;244;48;5;244m▀\u001b[38;5;244;48;5;244m▀\u001b[38;5;243;48;5;244m▀\u001b[38;5;243;48;5;244m▀\u001b[38;5;244;48;5;243m▀\u001b[38;5;244;48;5;243m▀\u001b[38;5;244;48;5;244m▀\u001b[38;5;243;48;5;244m▀\u001b[38;5;243;48;5;244m▀\u001b[38;5;244;48;5;244m▀\u001b[38;5;238;48;5;237m▀\u001b[0m\n",
       "\u001b[0m\u001b[38;5;238;48;5;237m▀\u001b[38;5;244;48;5;244m▀\u001b[38;5;243;48;5;244m▀\u001b[38;5;244;48;5;244m▀\u001b[38;5;244;48;5;244m▀\u001b[38;5;244;48;5;243m▀\u001b[38;5;243;48;5;244m▀\u001b[38;5;244;48;5;246m▀\u001b[38;5;244;48;5;244m▀\u001b[38;5;244;48;5;244m▀\u001b[38;5;244;48;5;244m▀\u001b[38;5;243;48;5;244m▀\u001b[38;5;243;48;5;244m▀\u001b[38;5;245;48;5;246m▀\u001b[38;5;245;48;5;244m▀\u001b[38;5;244;48;5;244m▀\u001b[38;5;243;48;5;244m▀\u001b[38;5;244;48;5;244m▀\u001b[38;5;244;48;5;244m▀\u001b[38;5;244;48;5;244m▀\u001b[38;5;244;48;5;244m▀\u001b[38;5;244;48;5;244m▀\u001b[38;5;243;48;5;243m▀\u001b[38;5;244;48;5;244m▀\u001b[38;5;244;48;5;244m▀\u001b[38;5;243;48;5;244m▀\u001b[38;5;243;48;5;246m▀\u001b[38;5;244;48;5;245m▀\u001b[38;5;244;48;5;244m▀\u001b[38;5;245;48;5;244m▀\u001b[38;5;245;48;5;244m▀\u001b[38;5;244;48;5;244m▀\u001b[38;5;237;48;5;238m▀\u001b[0m\n",
       "\u001b[0m\u001b[38;5;238;48;5;237m▀\u001b[38;5;245;48;5;246m▀\u001b[38;5;244;48;5;244m▀\u001b[38;5;244;48;5;244m▀\u001b[38;5;244;48;5;244m▀\u001b[38;5;244;48;5;244m▀\u001b[38;5;244;48;5;244m▀\u001b[38;5;244;48;5;243m▀\u001b[38;5;244;48;5;244m▀\u001b[38;5;244;48;5;244m▀\u001b[38;5;244;48;5;244m▀\u001b[38;5;244;48;5;244m▀\u001b[38;5;244;48;5;244m▀\u001b[38;5;245;48;5;244m▀\u001b[38;5;244;48;5;244m▀\u001b[38;5;243;48;5;244m▀\u001b[38;5;244;48;5;244m▀\u001b[38;5;244;48;5;243m▀\u001b[38;5;245;48;5;244m▀\u001b[38;5;246;48;5;245m▀\u001b[38;5;244;48;5;245m▀\u001b[38;5;244;48;5;243m▀\u001b[38;5;246;48;5;245m▀\u001b[38;5;245;48;5;244m▀\u001b[38;5;244;48;5;244m▀\u001b[38;5;245;48;5;244m▀\u001b[38;5;244;48;5;245m▀\u001b[38;5;244;48;5;244m▀\u001b[38;5;244;48;5;244m▀\u001b[38;5;244;48;5;245m▀\u001b[38;5;244;48;5;243m▀\u001b[38;5;244;48;5;243m▀\u001b[38;5;238;48;5;238m▀\u001b[0m\n",
       "\u001b[0m\u001b[38;5;238;48;5;238m▀\u001b[38;5;245;48;5;244m▀\u001b[38;5;244;48;5;244m▀\u001b[38;5;244;48;5;243m▀\u001b[38;5;244;48;5;244m▀\u001b[38;5;244;48;5;244m▀\u001b[38;5;244;48;5;244m▀\u001b[38;5;244;48;5;245m▀\u001b[38;5;244;48;5;244m▀\u001b[38;5;244;48;5;244m▀\u001b[38;5;245;48;5;245m▀\u001b[38;5;244;48;5;244m▀\u001b[38;5;244;48;5;244m▀\u001b[38;5;244;48;5;244m▀\u001b[38;5;244;48;5;244m▀\u001b[38;5;244;48;5;244m▀\u001b[38;5;245;48;5;245m▀\u001b[38;5;243;48;5;244m▀\u001b[38;5;245;48;5;244m▀\u001b[38;5;244;48;5;244m▀\u001b[38;5;244;48;5;244m▀\u001b[38;5;244;48;5;244m▀\u001b[38;5;244;48;5;244m▀\u001b[38;5;244;48;5;244m▀\u001b[38;5;246;48;5;244m▀\u001b[38;5;244;48;5;244m▀\u001b[38;5;244;48;5;244m▀\u001b[38;5;244;48;5;244m▀\u001b[38;5;244;48;5;247m▀\u001b[38;5;245;48;5;245m▀\u001b[38;5;244;48;5;244m▀\u001b[38;5;244;48;5;244m▀\u001b[38;5;238;48;5;238m▀\u001b[0m\n",
       "\u001b[0m\u001b[38;5;238;48;5;238m▀\u001b[38;5;244;48;5;244m▀\u001b[38;5;244;48;5;244m▀\u001b[38;5;243;48;5;244m▀\u001b[38;5;244;48;5;246m▀\u001b[38;5;245;48;5;244m▀\u001b[38;5;244;48;5;245m▀\u001b[38;5;245;48;5;244m▀\u001b[38;5;244;48;5;245m▀\u001b[38;5;244;48;5;243m▀\u001b[38;5;244;48;5;244m▀\u001b[38;5;245;48;5;244m▀\u001b[38;5;244;48;5;244m▀\u001b[38;5;244;48;5;244m▀\u001b[38;5;244;48;5;243m▀\u001b[38;5;243;48;5;244m▀\u001b[38;5;244;48;5;244m▀\u001b[38;5;243;48;5;244m▀\u001b[38;5;244;48;5;244m▀\u001b[38;5;245;48;5;244m▀\u001b[38;5;244;48;5;243m▀\u001b[38;5;244;48;5;244m▀\u001b[38;5;244;48;5;244m▀\u001b[38;5;244;48;5;244m▀\u001b[38;5;244;48;5;244m▀\u001b[38;5;244;48;5;244m▀\u001b[38;5;244;48;5;244m▀\u001b[38;5;245;48;5;245m▀\u001b[38;5;245;48;5;244m▀\u001b[38;5;244;48;5;244m▀\u001b[38;5;244;48;5;244m▀\u001b[38;5;244;48;5;244m▀\u001b[38;5;238;48;5;238m▀\u001b[0m\n",
       "\u001b[0m\u001b[38;5;235m▀\u001b[38;5;238m▀\u001b[38;5;237m▀\u001b[38;5;237m▀\u001b[38;5;238m▀\u001b[38;5;238m▀\u001b[38;5;238m▀\u001b[38;5;238m▀\u001b[38;5;238m▀\u001b[38;5;237m▀\u001b[38;5;237m▀\u001b[38;5;239m▀\u001b[38;5;238m▀\u001b[38;5;238m▀\u001b[38;5;238m▀\u001b[38;5;237m▀\u001b[38;5;238m▀\u001b[38;5;238m▀\u001b[38;5;238m▀\u001b[38;5;238m▀\u001b[38;5;237m▀\u001b[38;5;237m▀\u001b[38;5;238m▀\u001b[38;5;238m▀\u001b[38;5;239m▀\u001b[38;5;238m▀\u001b[38;5;238m▀\u001b[38;5;239m▀\u001b[38;5;238m▀\u001b[38;5;238m▀\u001b[38;5;238m▀\u001b[38;5;238m▀\u001b[38;5;234m▀\u001b[0m"
      ]
     },
     "metadata": {},
     "output_type": "display_data"
    }
   ],
   "source": [
    "let\n",
    "    # initialize -\n",
    "    index_to_visualize = 240; # TODO: pick a value up to t ∈ [1, T]\n",
    "    Gray.(1 .- base_frames[index_to_visualize]) # frame to visualize\n",
    "end"
   ]
  },
  {
   "cell_type": "code",
   "execution_count": 8,
   "id": "84f4041f",
   "metadata": {},
   "outputs": [],
   "source": [
    "do_you_see_deterministic_rule_30_simulation_figure = true; # set to true if you see the figure above"
   ]
  },
  {
   "cell_type": "markdown",
   "id": "b1e27937",
   "metadata": {},
   "source": [
    "__What do we see?__\n",
    "\n",
    "The deterministic Rule 30 simulation produces a striking triangular pattern that emerges from the single activated cell at the center. Starting from this simple initial condition, the system evolves to create complex, seemingly random structures that expand outward in both directions as time progresses down the vertical axis.\n",
    "\n",
    "The pattern exhibits fascinating asymmetry despite the symmetric initial condition and deterministic rules. The left side typically shows more regular, periodic structures, while the right side displays chaotic, unpredictable behavior that appears almost random. This duality makes Rule 30 particularly interesting because it demonstrates how simple, deterministic local rules can generate both order and apparent randomness within the same system.\n",
    "\n",
    "Each horizontal line in the visualization represents the state of all cells at a specific time step, with black pixels indicating active cells (state 1) and white pixels representing inactive cells (state 0). The evolution creates intricate nested patterns and self-similar structures that continue to develop complexity as the simulation progresses through the 240 time steps."
   ]
  },
  {
   "cell_type": "markdown",
   "id": "d487c40f",
   "metadata": {},
   "source": [
    "## Task 2: Probabilistic Cellular Automata\n",
    "In this task, we will implement a probabilistic one-dimensional cellular automaton using [using Rule 30](https://en.wikipedia.org/wiki/Rule_30). We'll introduce randomness into the evolution process and observe how it affects the resulting patterns.\n",
    "\n",
    "> __Randomness:__ Let's introduce some randomness into the grid-world simulations. The rule will stay the same, however, we introduce a few random elements into the state transitions. First, suppose that a cell in the current state undergoes the transition to the next state probabilistically, i.e., not every cell can _move_ at each time step. Second, if a cell does update it's state, there will be an (unjustifiable) cooldown period before it can move again.\n",
    "\n",
    "### Stochastic Simulation Algorithm\n",
    "Let's sketch out some pseudocode for the stochastic variant of the grid-world simulation.\n",
    "\n",
    "__Initialize__: Given the initial state cell state vector $\\mathbf{s}\\in\\mathbb{Z}^{n}_{0,1}$ where $n$ is the number of cells in the one-dimensional grid, the number of time steps $T$, a rule $R:N(\\mathbf{s})\\to\\mathbf{s}^{\\prime}$, where $N(\\mathbf{s})$ is the neighborhood of a cell in the state vector, a parameter $p\\in[0,1]$ representing the probability of a cell updating its state, and a cooldown period $c\\in\\mathbb{Z}^{+}$. Initialize a cooldown vector $\\mathbf{c} \\in \\mathbb{N}_0^n$ with all zeros.\n",
    "\n",
    "Time proceeds in discrete steps, where we initialize the time index $t\\gets{0}$.\n",
    "\n",
    "For each $t=1,\\ldots,T$ __do__:\n",
    "\n",
    "1. Update cooldown periods for all cells in the grid:\n",
    "   1. For each cell $j=1,\\ldots,n$ __do__:\n",
    "      1. If the cooldown period for cell $j$ is greater than $0$, decrement it by $1$: $\\mathbf{c}[j] \\gets \\max(0, \\mathbf{c}[j] - 1)$\n",
    "\n",
    "1. Initialize empty movement queue: $\\texttt{Q} \\gets \\emptyset$\n",
    "\n",
    "1. For each cell $i = 1,\\ldots,n$ with $\\mathbf{c}[i] = 0$ __do__:\n",
    "   1. With probability $p$, add the cell $i$ to the movement queue $\\texttt{Q}\\gets\\texttt{Q} \\cup \\{i\\}$.\n",
    "\n",
    "1. Get the current state vector: $\\mathbf{s}\\gets\\mathbf{s}_{t-1}$\n",
    "1. Initialize temporary state vector: $\\mathbf{s}^{\\text{temp}} \\gets \\mathbf{s}$\n",
    "1. While $\\texttt{Q}$ is not empty __do__:\n",
    "    1. Dequeue a cell $i\\gets\\texttt{Q}.\\texttt{dequeue}()$ from the movement queue.\n",
    "    1. Compute the neighborhood $\\hat{\\mathbf{s}}\\gets{N}(i,\\mathbf{s})$ of the cell at location $i$.\n",
    "    2. Apply rule $R$ to compute the next state: $s_{i}^{\\prime}\\gets R(\\hat{\\mathbf{s}})$ for cell $i$\n",
    "    3. Store the updated state in temporary vector: $\\mathbf{s}^{\\text{temp}}[i]\\gets s_{i}^{\\prime}$\n",
    "    4. Set the cooldown period for cell $i$: $\\mathbf{c}[i] \\gets c$\n",
    "1. Update state for next iteration: $\\mathbf{s}_{t} \\gets \\mathbf{s}^{\\text{temp}}$\n",
    "\n",
    "The key differences from the deterministic case are the probabilistic queue selection and the cooldown mechanism that prevents recently updated cells from participating in immediate subsequent updates. The temporary buffer ensures consistent state reading even in the asynchronous update scenario.\n",
    "\n",
    "Just like the deterministic case, we store the $T\\times{n}$ simulation _frames_, where at each time step we are updating a row in the two-dimensional array.\n",
    "\n",
    "Let's run the stochastic simulation, and store the results in the `stochastic_frames::Dict{Int64, Array{Int64, 2}}` variable.\n"
   ]
  },
  {
   "cell_type": "code",
   "execution_count": 9,
   "id": "a2e4ecc3",
   "metadata": {},
   "outputs": [
    {
     "data": {
      "text/plain": [
       "Dict{Int64, Matrix{Int64}} with 240 entries:\n",
       "  56  => [0 0 … 0 0; 0 0 … 0 0; … ; 0 0 … 0 0; 0 0 … 0 0]\n",
       "  35  => [0 0 … 0 0; 0 0 … 0 0; … ; 0 0 … 0 0; 0 0 … 0 0]\n",
       "  60  => [0 0 … 0 0; 0 0 … 0 0; … ; 0 0 … 0 0; 0 0 … 0 0]\n",
       "  220 => [0 0 … 0 0; 0 0 … 0 0; … ; 0 0 … 0 0; 0 0 … 0 0]\n",
       "  67  => [0 0 … 0 0; 0 0 … 0 0; … ; 0 0 … 0 0; 0 0 … 0 0]\n",
       "  215 => [0 0 … 0 0; 0 0 … 0 0; … ; 0 0 … 0 0; 0 0 … 0 0]\n",
       "  73  => [0 0 … 0 0; 0 0 … 0 0; … ; 0 0 … 0 0; 0 0 … 0 0]\n",
       "  115 => [0 0 … 0 0; 0 0 … 0 0; … ; 0 0 … 0 0; 0 0 … 0 0]\n",
       "  112 => [0 0 … 0 0; 0 0 … 0 0; … ; 0 0 … 0 0; 0 0 … 0 0]\n",
       "  185 => [0 0 … 0 0; 0 0 … 0 0; … ; 0 0 … 0 0; 0 0 … 0 0]\n",
       "  86  => [0 0 … 0 0; 0 0 … 0 0; … ; 0 0 … 0 0; 0 0 … 0 0]\n",
       "  168 => [0 0 … 0 0; 0 0 … 0 0; … ; 0 0 … 0 0; 0 0 … 0 0]\n",
       "  207 => [0 0 … 0 0; 0 0 … 0 0; … ; 0 0 … 0 0; 0 0 … 0 0]\n",
       "  183 => [0 0 … 0 0; 0 0 … 0 0; … ; 0 0 … 0 0; 0 0 … 0 0]\n",
       "  224 => [0 0 … 0 0; 0 0 … 0 0; … ; 0 0 … 0 0; 0 0 … 0 0]\n",
       "  177 => [0 0 … 0 0; 0 0 … 0 0; … ; 0 0 … 0 0; 0 0 … 0 0]\n",
       "  12  => [0 0 … 0 0; 0 0 … 0 0; … ; 0 0 … 0 0; 0 0 … 0 0]\n",
       "  75  => [0 0 … 0 0; 0 0 … 0 0; … ; 0 0 … 0 0; 0 0 … 0 0]\n",
       "  23  => [0 0 … 0 0; 0 0 … 0 0; … ; 0 0 … 0 0; 0 0 … 0 0]\n",
       "  ⋮   => ⋮"
      ]
     },
     "metadata": {},
     "output_type": "display_data"
    }
   ],
   "source": [
    "stochastic_frames = let\n",
    "\n",
    "    # initialize -\n",
    "    probability = Dict{Int64, Float64}();\n",
    "    probability_per_cell = 0.80;\n",
    "    cooldown_per_cell = 1; # it takes this many steps to cool down\n",
    "\n",
    "    # populate the probability dictionary -\n",
    "    for s ∈ 1:number_of_states\n",
    "        probability[s] = probability_per_cell;\n",
    "    end\n",
    "\n",
    "    # compute the frames\n",
    "    frames = simulate(rulemodel, initial, steps=number_of_steps, maxnumberofmoves=(number_of_states - 0), \n",
    "        parameters = probability,\n",
    "        cooldownlength=cooldown_per_cell,\n",
    "        algorithm=WolframStochasticSimulation());\n",
    "\n",
    "    frames # return \n",
    "end"
   ]
  },
  {
   "cell_type": "markdown",
   "id": "edc5c548",
   "metadata": {},
   "source": [
    "Let's visualize the individual simulation _frames_ stored in the `stochastic_frames` dictionary at some time index you select using [the `Images.jl` package](https://github.com/JuliaImages/Images.jl) as a grayscale image:"
   ]
  },
  {
   "cell_type": "code",
   "execution_count": 10,
   "id": "034462f0",
   "metadata": {},
   "outputs": [
    {
     "data": {
      "image/png": "[encoded data removed]",
      "text/html": [
       "<img src=\"data:image/png;base64,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\">"
      ],
      "text/plain": [
       "\u001b[0m\u001b[38;5;238;48;5;244m▀\u001b[38;5;244;48;5;255m▀\u001b[38;5;244;48;5;255m▀\u001b[38;5;244;48;5;255m▀\u001b[38;5;244;48;5;255m▀\u001b[38;5;244;48;5;255m▀\u001b[38;5;244;48;5;255m▀\u001b[38;5;244;48;5;255m▀\u001b[38;5;244;48;5;255m▀\u001b[38;5;244;48;5;255m▀\u001b[38;5;244;48;5;255m▀\u001b[38;5;244;48;5;255m▀\u001b[38;5;244;48;5;255m▀\u001b[38;5;244;48;5;255m▀\u001b[38;5;244;48;5;255m▀\u001b[38;5;243;48;5;249m▀\u001b[38;5;240;48;5;250m▀\u001b[38;5;244;48;5;255m▀\u001b[38;5;244;48;5;255m▀\u001b[38;5;244;48;5;255m▀\u001b[38;5;244;48;5;255m▀\u001b[38;5;244;48;5;255m▀\u001b[38;5;244;48;5;255m▀\u001b[38;5;244;48;5;255m▀\u001b[38;5;244;48;5;255m▀\u001b[38;5;244;48;5;255m▀\u001b[38;5;244;48;5;255m▀\u001b[38;5;244;48;5;255m▀\u001b[38;5;244;48;5;255m▀\u001b[38;5;244;48;5;255m▀\u001b[38;5;244;48;5;255m▀\u001b[38;5;244;48;5;255m▀\u001b[38;5;238;48;5;244m▀\u001b[0m\n",
       "\u001b[0m\u001b[38;5;244;48;5;244m▀\u001b[38;5;255;48;5;255m▀\u001b[38;5;255;48;5;255m▀\u001b[38;5;255;48;5;255m▀\u001b[38;5;255;48;5;255m▀\u001b[38;5;255;48;5;255m▀\u001b[38;5;255;48;5;255m▀\u001b[38;5;255;48;5;255m▀\u001b[38;5;255;48;5;255m▀\u001b[38;5;255;48;5;255m▀\u001b[38;5;255;48;5;255m▀\u001b[38;5;255;48;5;255m▀\u001b[38;5;255;48;5;255m▀\u001b[38;5;255;48;5;252m▀\u001b[38;5;251;48;5;246m▀\u001b[38;5;246;48;5;247m▀\u001b[38;5;249;48;5;246m▀\u001b[38;5;254;48;5;247m▀\u001b[38;5;255;48;5;254m▀\u001b[38;5;255;48;5;255m▀\u001b[38;5;255;48;5;255m▀\u001b[38;5;255;48;5;255m▀\u001b[38;5;255;48;5;255m▀\u001b[38;5;255;48;5;255m▀\u001b[38;5;255;48;5;255m▀\u001b[38;5;255;48;5;255m▀\u001b[38;5;255;48;5;255m▀\u001b[38;5;255;48;5;255m▀\u001b[38;5;255;48;5;255m▀\u001b[38;5;255;48;5;255m▀\u001b[38;5;255;48;5;255m▀\u001b[38;5;255;48;5;255m▀\u001b[38;5;244;48;5;244m▀\u001b[0m\n",
       "\u001b[0m\u001b[38;5;244;48;5;244m▀\u001b[38;5;255;48;5;255m▀\u001b[38;5;255;48;5;255m▀\u001b[38;5;255;48;5;255m▀\u001b[38;5;255;48;5;255m▀\u001b[38;5;255;48;5;255m▀\u001b[38;5;255;48;5;255m▀\u001b[38;5;255;48;5;255m▀\u001b[38;5;255;48;5;255m▀\u001b[38;5;255;48;5;255m▀\u001b[38;5;255;48;5;255m▀\u001b[38;5;255;48;5;252m▀\u001b[38;5;253;48;5;247m▀\u001b[38;5;247;48;5;247m▀\u001b[38;5;246;48;5;247m▀\u001b[38;5;246;48;5;246m▀\u001b[38;5;245;48;5;247m▀\u001b[38;5;245;48;5;246m▀\u001b[38;5;249;48;5;245m▀\u001b[38;5;255;48;5;251m▀\u001b[38;5;255;48;5;255m▀\u001b[38;5;255;48;5;255m▀\u001b[38;5;255;48;5;255m▀\u001b[38;5;255;48;5;255m▀\u001b[38;5;255;48;5;255m▀\u001b[38;5;255;48;5;255m▀\u001b[38;5;255;48;5;255m▀\u001b[38;5;255;48;5;255m▀\u001b[38;5;255;48;5;255m▀\u001b[38;5;255;48;5;255m▀\u001b[38;5;255;48;5;255m▀\u001b[38;5;255;48;5;255m▀\u001b[38;5;244;48;5;244m▀\u001b[0m\n",
       "\u001b[0m\u001b[38;5;244;48;5;244m▀\u001b[38;5;255;48;5;255m▀\u001b[38;5;255;48;5;255m▀\u001b[38;5;255;48;5;255m▀\u001b[38;5;255;48;5;255m▀\u001b[38;5;255;48;5;255m▀\u001b[38;5;255;48;5;255m▀\u001b[38;5;255;48;5;255m▀\u001b[38;5;255;48;5;255m▀\u001b[38;5;255;48;5;255m▀\u001b[38;5;255;48;5;250m▀\u001b[38;5;248;48;5;245m▀\u001b[38;5;246;48;5;246m▀\u001b[38;5;247;48;5;245m▀\u001b[38;5;246;48;5;245m▀\u001b[38;5;247;48;5;247m▀\u001b[38;5;246;48;5;246m▀\u001b[38;5;246;48;5;246m▀\u001b[38;5;246;48;5;248m▀\u001b[38;5;247;48;5;248m▀\u001b[38;5;255;48;5;253m▀\u001b[38;5;255;48;5;255m▀\u001b[38;5;255;48;5;255m▀\u001b[38;5;255;48;5;255m▀\u001b[38;5;255;48;5;255m▀\u001b[38;5;255;48;5;255m▀\u001b[38;5;255;48;5;255m▀\u001b[38;5;255;48;5;255m▀\u001b[38;5;255;48;5;255m▀\u001b[38;5;255;48;5;255m▀\u001b[38;5;255;48;5;255m▀\u001b[38;5;255;48;5;255m▀\u001b[38;5;244;48;5;244m▀\u001b[0m\n",
       "\u001b[0m\u001b[38;5;244;48;5;244m▀\u001b[38;5;255;48;5;255m▀\u001b[38;5;255;48;5;255m▀\u001b[38;5;255;48;5;255m▀\u001b[38;5;255;48;5;255m▀\u001b[38;5;255;48;5;255m▀\u001b[38;5;255;48;5;255m▀\u001b[38;5;255;48;5;255m▀\u001b[38;5;255;48;5;252m▀\u001b[38;5;251;48;5;246m▀\u001b[38;5;247;48;5;247m▀\u001b[38;5;246;48;5;246m▀\u001b[38;5;247;48;5;245m▀\u001b[38;5;245;48;5;248m▀\u001b[38;5;245;48;5;246m▀\u001b[38;5;247;48;5;246m▀\u001b[38;5;246;48;5;247m▀\u001b[38;5;246;48;5;246m▀\u001b[38;5;247;48;5;245m▀\u001b[38;5;247;48;5;245m▀\u001b[38;5;247;48;5;246m▀\u001b[38;5;255;48;5;254m▀\u001b[38;5;255;48;5;255m▀\u001b[38;5;255;48;5;255m▀\u001b[38;5;255;48;5;255m▀\u001b[38;5;255;48;5;255m▀\u001b[38;5;255;48;5;255m▀\u001b[38;5;255;48;5;255m▀\u001b[38;5;255;48;5;255m▀\u001b[38;5;255;48;5;255m▀\u001b[38;5;255;48;5;255m▀\u001b[38;5;255;48;5;255m▀\u001b[38;5;244;48;5;244m▀\u001b[0m\n",
       "\u001b[0m\u001b[38;5;244;48;5;244m▀\u001b[38;5;255;48;5;255m▀\u001b[38;5;255;48;5;255m▀\u001b[38;5;255;48;5;255m▀\u001b[38;5;255;48;5;255m▀\u001b[38;5;255;48;5;255m▀\u001b[38;5;255;48;5;255m▀\u001b[38;5;255;48;5;249m▀\u001b[38;5;246;48;5;245m▀\u001b[38;5;246;48;5;248m▀\u001b[38;5;248;48;5;248m▀\u001b[38;5;246;48;5;246m▀\u001b[38;5;245;48;5;248m▀\u001b[38;5;247;48;5;246m▀\u001b[38;5;245;48;5;246m▀\u001b[38;5;246;48;5;247m▀\u001b[38;5;246;48;5;247m▀\u001b[38;5;245;48;5;248m▀\u001b[38;5;246;48;5;246m▀\u001b[38;5;245;48;5;246m▀\u001b[38;5;247;48;5;248m▀\u001b[38;5;251;48;5;248m▀\u001b[38;5;255;48;5;255m▀\u001b[38;5;255;48;5;255m▀\u001b[38;5;255;48;5;255m▀\u001b[38;5;255;48;5;255m▀\u001b[38;5;255;48;5;255m▀\u001b[38;5;255;48;5;255m▀\u001b[38;5;255;48;5;255m▀\u001b[38;5;255;48;5;255m▀\u001b[38;5;255;48;5;255m▀\u001b[38;5;255;48;5;255m▀\u001b[38;5;244;48;5;244m▀\u001b[0m\n",
       "\u001b[0m\u001b[38;5;244;48;5;244m▀\u001b[38;5;255;48;5;255m▀\u001b[38;5;255;48;5;255m▀\u001b[38;5;255;48;5;255m▀\u001b[38;5;255;48;5;255m▀\u001b[38;5;255;48;5;253m▀\u001b[38;5;253;48;5;247m▀\u001b[38;5;247;48;5;245m▀\u001b[38;5;247;48;5;247m▀\u001b[38;5;245;48;5;247m▀\u001b[38;5;246;48;5;247m▀\u001b[38;5;247;48;5;247m▀\u001b[38;5;249;48;5;245m▀\u001b[38;5;249;48;5;245m▀\u001b[38;5;246;48;5;245m▀\u001b[38;5;246;48;5;246m▀\u001b[38;5;246;48;5;246m▀\u001b[38;5;249;48;5;246m▀\u001b[38;5;246;48;5;249m▀\u001b[38;5;245;48;5;246m▀\u001b[38;5;245;48;5;246m▀\u001b[38;5;247;48;5;246m▀\u001b[38;5;254;48;5;250m▀\u001b[38;5;255;48;5;255m▀\u001b[38;5;255;48;5;255m▀\u001b[38;5;255;48;5;255m▀\u001b[38;5;255;48;5;255m▀\u001b[38;5;255;48;5;255m▀\u001b[38;5;255;48;5;255m▀\u001b[38;5;255;48;5;255m▀\u001b[38;5;255;48;5;255m▀\u001b[38;5;255;48;5;255m▀\u001b[38;5;244;48;5;244m▀\u001b[0m\n",
       "\u001b[0m\u001b[38;5;244;48;5;244m▀\u001b[38;5;255;48;5;255m▀\u001b[38;5;255;48;5;255m▀\u001b[38;5;255;48;5;255m▀\u001b[38;5;255;48;5;249m▀\u001b[38;5;247;48;5;248m▀\u001b[38;5;247;48;5;245m▀\u001b[38;5;247;48;5;246m▀\u001b[38;5;245;48;5;247m▀\u001b[38;5;245;48;5;245m▀\u001b[38;5;246;48;5;246m▀\u001b[38;5;246;48;5;247m▀\u001b[38;5;245;48;5;244m▀\u001b[38;5;245;48;5;245m▀\u001b[38;5;246;48;5;245m▀\u001b[38;5;246;48;5;245m▀\u001b[38;5;245;48;5;245m▀\u001b[38;5;247;48;5;247m▀\u001b[38;5;249;48;5;248m▀\u001b[38;5;247;48;5;250m▀\u001b[38;5;245;48;5;250m▀\u001b[38;5;245;48;5;246m▀\u001b[38;5;247;48;5;245m▀\u001b[38;5;254;48;5;248m▀\u001b[38;5;255;48;5;255m▀\u001b[38;5;255;48;5;255m▀\u001b[38;5;255;48;5;255m▀\u001b[38;5;255;48;5;255m▀\u001b[38;5;255;48;5;255m▀\u001b[38;5;255;48;5;255m▀\u001b[38;5;255;48;5;255m▀\u001b[38;5;255;48;5;255m▀\u001b[38;5;244;48;5;244m▀\u001b[0m\n",
       "\u001b[0m\u001b[38;5;244;48;5;244m▀\u001b[38;5;255;48;5;255m▀\u001b[38;5;255;48;5;253m▀\u001b[38;5;249;48;5;246m▀\u001b[38;5;245;48;5;246m▀\u001b[38;5;248;48;5;246m▀\u001b[38;5;247;48;5;247m▀\u001b[38;5;246;48;5;247m▀\u001b[38;5;246;48;5;245m▀\u001b[38;5;245;48;5;245m▀\u001b[38;5;247;48;5;246m▀\u001b[38;5;248;48;5;246m▀\u001b[38;5;246;48;5;247m▀\u001b[38;5;245;48;5;247m▀\u001b[38;5;246;48;5;246m▀\u001b[38;5;245;48;5;245m▀\u001b[38;5;245;48;5;245m▀\u001b[38;5;246;48;5;245m▀\u001b[38;5;247;48;5;246m▀\u001b[38;5;249;48;5;245m▀\u001b[38;5;246;48;5;245m▀\u001b[38;5;245;48;5;245m▀\u001b[38;5;245;48;5;245m▀\u001b[38;5;246;48;5;246m▀\u001b[38;5;254;48;5;249m▀\u001b[38;5;255;48;5;255m▀\u001b[38;5;255;48;5;255m▀\u001b[38;5;255;48;5;255m▀\u001b[38;5;255;48;5;255m▀\u001b[38;5;255;48;5;255m▀\u001b[38;5;255;48;5;255m▀\u001b[38;5;255;48;5;255m▀\u001b[38;5;244;48;5;244m▀\u001b[0m\n",
       "\u001b[0m\u001b[38;5;244;48;5;243m▀\u001b[38;5;255;48;5;249m▀\u001b[38;5;248;48;5;245m▀\u001b[38;5;245;48;5;245m▀\u001b[38;5;247;48;5;246m▀\u001b[38;5;247;48;5;247m▀\u001b[38;5;248;48;5;245m▀\u001b[38;5;247;48;5;245m▀\u001b[38;5;245;48;5;246m▀\u001b[38;5;245;48;5;246m▀\u001b[38;5;244;48;5;244m▀\u001b[38;5;245;48;5;246m▀\u001b[38;5;245;48;5;246m▀\u001b[38;5;248;48;5;246m▀\u001b[38;5;245;48;5;245m▀\u001b[38;5;246;48;5;245m▀\u001b[38;5;246;48;5;246m▀\u001b[38;5;246;48;5;247m▀\u001b[38;5;246;48;5;247m▀\u001b[38;5;245;48;5;246m▀\u001b[38;5;245;48;5;246m▀\u001b[38;5;245;48;5;248m▀\u001b[38;5;247;48;5;249m▀\u001b[38;5;245;48;5;246m▀\u001b[38;5;247;48;5;248m▀\u001b[38;5;253;48;5;249m▀\u001b[38;5;255;48;5;255m▀\u001b[38;5;255;48;5;255m▀\u001b[38;5;255;48;5;255m▀\u001b[38;5;255;48;5;255m▀\u001b[38;5;255;48;5;255m▀\u001b[38;5;255;48;5;255m▀\u001b[38;5;244;48;5;244m▀\u001b[0m\n",
       "\u001b[0m\u001b[38;5;239;48;5;240m▀\u001b[38;5;246;48;5;248m▀\u001b[38;5;247;48;5;246m▀\u001b[38;5;246;48;5;246m▀\u001b[38;5;247;48;5;246m▀\u001b[38;5;250;48;5;247m▀\u001b[38;5;247;48;5;246m▀\u001b[38;5;246;48;5;246m▀\u001b[38;5;247;48;5;246m▀\u001b[38;5;247;48;5;246m▀\u001b[38;5;246;48;5;246m▀\u001b[38;5;246;48;5;246m▀\u001b[38;5;245;48;5;245m▀\u001b[38;5;246;48;5;245m▀\u001b[38;5;247;48;5;251m▀\u001b[38;5;245;48;5;248m▀\u001b[38;5;246;48;5;246m▀\u001b[38;5;252;48;5;247m▀\u001b[38;5;248;48;5;246m▀\u001b[38;5;245;48;5;245m▀\u001b[38;5;246;48;5;246m▀\u001b[38;5;247;48;5;246m▀\u001b[38;5;246;48;5;250m▀\u001b[38;5;246;48;5;245m▀\u001b[38;5;248;48;5;249m▀\u001b[38;5;248;48;5;248m▀\u001b[38;5;254;48;5;248m▀\u001b[38;5;255;48;5;255m▀\u001b[38;5;255;48;5;255m▀\u001b[38;5;255;48;5;255m▀\u001b[38;5;255;48;5;255m▀\u001b[38;5;255;48;5;251m▀\u001b[38;5;242;48;5;239m▀\u001b[0m\n",
       "\u001b[0m\u001b[38;5;239;48;5;238m▀\u001b[38;5;245;48;5;247m▀\u001b[38;5;246;48;5;248m▀\u001b[38;5;246;48;5;248m▀\u001b[38;5;246;48;5;246m▀\u001b[38;5;246;48;5;245m▀\u001b[38;5;246;48;5;246m▀\u001b[38;5;245;48;5;246m▀\u001b[38;5;246;48;5;244m▀\u001b[38;5;246;48;5;244m▀\u001b[38;5;246;48;5;245m▀\u001b[38;5;246;48;5;246m▀\u001b[38;5;245;48;5;245m▀\u001b[38;5;249;48;5;246m▀\u001b[38;5;255;48;5;252m▀\u001b[38;5;246;48;5;248m▀\u001b[38;5;245;48;5;245m▀\u001b[38;5;246;48;5;246m▀\u001b[38;5;246;48;5;246m▀\u001b[38;5;246;48;5;246m▀\u001b[38;5;249;48;5;246m▀\u001b[38;5;245;48;5;245m▀\u001b[38;5;247;48;5;248m▀\u001b[38;5;247;48;5;249m▀\u001b[38;5;246;48;5;249m▀\u001b[38;5;245;48;5;248m▀\u001b[38;5;246;48;5;246m▀\u001b[38;5;254;48;5;253m▀\u001b[38;5;255;48;5;255m▀\u001b[38;5;255;48;5;255m▀\u001b[38;5;254;48;5;249m▀\u001b[38;5;246;48;5;245m▀\u001b[38;5;240;48;5;239m▀\u001b[0m\n",
       "\u001b[0m\u001b[38;5;239;48;5;238m▀\u001b[38;5;248;48;5;246m▀\u001b[38;5;247;48;5;245m▀\u001b[38;5;249;48;5;246m▀\u001b[38;5;247;48;5;247m▀\u001b[38;5;245;48;5;246m▀\u001b[38;5;245;48;5;246m▀\u001b[38;5;246;48;5;245m▀\u001b[38;5;245;48;5;246m▀\u001b[38;5;246;48;5;246m▀\u001b[38;5;246;48;5;248m▀\u001b[38;5;246;48;5;247m▀\u001b[38;5;246;48;5;246m▀\u001b[38;5;245;48;5;247m▀\u001b[38;5;245;48;5;246m▀\u001b[38;5;245;48;5;246m▀\u001b[38;5;246;48;5;246m▀\u001b[38;5;245;48;5;245m▀\u001b[38;5;246;48;5;246m▀\u001b[38;5;245;48;5;245m▀\u001b[38;5;246;48;5;244m▀\u001b[38;5;245;48;5;245m▀\u001b[38;5;246;48;5;246m▀\u001b[38;5;246;48;5;247m▀\u001b[38;5;246;48;5;245m▀\u001b[38;5;245;48;5;244m▀\u001b[38;5;245;48;5;245m▀\u001b[38;5;248;48;5;248m▀\u001b[38;5;255;48;5;251m▀\u001b[38;5;252;48;5;246m▀\u001b[38;5;245;48;5;246m▀\u001b[38;5;244;48;5;245m▀\u001b[38;5;240;48;5;238m▀\u001b[0m\n",
       "\u001b[0m\u001b[38;5;238;48;5;239m▀\u001b[38;5;246;48;5;246m▀\u001b[38;5;245;48;5;247m▀\u001b[38;5;245;48;5;246m▀\u001b[38;5;246;48;5;246m▀\u001b[38;5;246;48;5;245m▀\u001b[38;5;247;48;5;247m▀\u001b[38;5;246;48;5;247m▀\u001b[38;5;246;48;5;246m▀\u001b[38;5;246;48;5;245m▀\u001b[38;5;246;48;5;245m▀\u001b[38;5;246;48;5;246m▀\u001b[38;5;248;48;5;247m▀\u001b[38;5;249;48;5;246m▀\u001b[38;5;246;48;5;246m▀\u001b[38;5;247;48;5;245m▀\u001b[38;5;246;48;5;245m▀\u001b[38;5;247;48;5;246m▀\u001b[38;5;245;48;5;247m▀\u001b[38;5;247;48;5;247m▀\u001b[38;5;246;48;5;248m▀\u001b[38;5;246;48;5;245m▀\u001b[38;5;247;48;5;247m▀\u001b[38;5;245;48;5;249m▀\u001b[38;5;244;48;5;245m▀\u001b[38;5;246;48;5;247m▀\u001b[38;5;245;48;5;248m▀\u001b[38;5;245;48;5;247m▀\u001b[38;5;247;48;5;246m▀\u001b[38;5;246;48;5;245m▀\u001b[38;5;246;48;5;245m▀\u001b[38;5;246;48;5;246m▀\u001b[38;5;239;48;5;239m▀\u001b[0m\n",
       "\u001b[0m\u001b[38;5;239;48;5;238m▀\u001b[38;5;246;48;5;246m▀\u001b[38;5;249;48;5;250m▀\u001b[38;5;247;48;5;246m▀\u001b[38;5;245;48;5;244m▀\u001b[38;5;247;48;5;247m▀\u001b[38;5;248;48;5;246m▀\u001b[38;5;247;48;5;251m▀\u001b[38;5;252;48;5;251m▀\u001b[38;5;247;48;5;245m▀\u001b[38;5;246;48;5;245m▀\u001b[38;5;247;48;5;247m▀\u001b[38;5;248;48;5;247m▀\u001b[38;5;246;48;5;245m▀\u001b[38;5;245;48;5;247m▀\u001b[38;5;246;48;5;245m▀\u001b[38;5;246;48;5;246m▀\u001b[38;5;245;48;5;246m▀\u001b[38;5;245;48;5;245m▀\u001b[38;5;246;48;5;245m▀\u001b[38;5;248;48;5;247m▀\u001b[38;5;244;48;5;245m▀\u001b[38;5;245;48;5;245m▀\u001b[38;5;246;48;5;245m▀\u001b[38;5;247;48;5;246m▀\u001b[38;5;246;48;5;248m▀\u001b[38;5;246;48;5;246m▀\u001b[38;5;245;48;5;248m▀\u001b[38;5;246;48;5;246m▀\u001b[38;5;246;48;5;246m▀\u001b[38;5;246;48;5;250m▀\u001b[38;5;246;48;5;245m▀\u001b[38;5;238;48;5;239m▀\u001b[0m\n",
       "\u001b[0m\u001b[38;5;234m▀\u001b[38;5;238m▀\u001b[38;5;239m▀\u001b[38;5;239m▀\u001b[38;5;239m▀\u001b[38;5;238m▀\u001b[38;5;240m▀\u001b[38;5;240m▀\u001b[38;5;241m▀\u001b[38;5;238m▀\u001b[38;5;238m▀\u001b[38;5;239m▀\u001b[38;5;239m▀\u001b[38;5;238m▀\u001b[38;5;238m▀\u001b[38;5;238m▀\u001b[38;5;240m▀\u001b[38;5;239m▀\u001b[38;5;239m▀\u001b[38;5;238m▀\u001b[38;5;238m▀\u001b[38;5;238m▀\u001b[38;5;239m▀\u001b[38;5;239m▀\u001b[38;5;242m▀\u001b[38;5;241m▀\u001b[38;5;241m▀\u001b[38;5;241m▀\u001b[38;5;239m▀\u001b[38;5;241m▀\u001b[38;5;241m▀\u001b[38;5;239m▀\u001b[38;5;236m▀\u001b[0m"
      ]
     },
     "metadata": {},
     "output_type": "display_data"
    }
   ],
   "source": [
    "let\n",
    "    \n",
    "    # initialize\n",
    "    index_to_visualize = 240; # TODO: pick a value up to t ∈ [1, T]\n",
    "    Gray.(1 .- stochastic_frames[index_to_visualize]) # render the frame\n",
    "end"
   ]
  },
  {
   "cell_type": "code",
   "execution_count": 11,
   "id": "470d3b70",
   "metadata": {},
   "outputs": [],
   "source": [
    "do_you_see_random_rule_30_simulation_figure = true; # set to true if you see the figure above"
   ]
  },
  {
   "cell_type": "markdown",
   "id": "61a6b6f0",
   "metadata": {},
   "source": [
    "__What is different?__\n",
    "\n",
    "The stochastic version of Rule 30 produces markedly different patterns compared to the deterministic simulation, even though both use identical underlying rules. The introduction of probabilistic state transitions and cooldown periods fundamentally alters the system's evolution, creating patterns that appear more fragmented and sparse than their deterministic counterpart.\n",
    "\n",
    "Instead of the smooth, continuous triangular expansion seen in the deterministic case, the stochastic simulation generates interrupted patterns with gaps and isolated clusters of activity. The probabilistic nature means that not every cell updates at each time step, creating a \"stuttering\" effect where pattern propagation becomes irregular and unpredictable. This leads to regions where the characteristic Rule 30 structures are broken or delayed, resulting in a more heterogeneous overall appearance.\n",
    "\n",
    "The cooldown mechanism introduces temporal dependencies that don't exist in the deterministic version, where recently updated cells must wait before participating in future transitions. This creates additional complexity and can lead to the formation of transient stable regions where activity becomes temporarily suppressed. The overall pattern retains some recognizable Rule 30 characteristics but with significantly more variability and less predictable boundaries, demonstrating how stochastic elements can dramatically alter emergent behavior while preserving the underlying mathematical structure.\n",
    "\n",
    "___"
   ]
  },
  {
   "cell_type": "markdown",
   "id": "4745e1a2",
   "metadata": {},
   "source": [
    "## Tests\n",
    "\n",
    "In the code block below, we check some values in your notebook and give you feedback on which items are correct or different. Unhide the code block below (if you are curious) about how we implemented the tests and what we are testing."
   ]
  },
  {
   "cell_type": "code",
   "execution_count": null,
   "id": "0d75eb86",
   "metadata": {},
   "outputs": [
    {
     "name": "stdout",
     "output_type": "stream",
     "text": [
      "\u001b[0m\u001b[1mTest Summary:                    | \u001b[22m\u001b[32m\u001b[1mPass  \u001b[22m\u001b[39m\u001b[36m\u001b[1mTotal  \u001b[22m\u001b[39m\u001b[0m\u001b[1mTime\u001b[22m\n",
      "Tests for PS1 Wolfram Simulation | \u001b[32m  10  \u001b[39m\u001b[36m   10  \u001b[39m\u001b[0m0.0s\n",
      "  Setup                          | \u001b[32m   6  \u001b[39m\u001b[36m    6  \u001b[39m\u001b[0m0.0s\n",
      "  Simulation                     | \u001b[32m   4  \u001b[39m\u001b[36m    4  \u001b[39m\u001b[0m0.0s\n"
     ]
    }
   ],
   "source": [
    "@testset verbose = true \"Tests for PS1 Wolfram Simulation\" begin\n",
    "\n",
    "    @testset \"Setup\" begin\n",
    "\n",
    "        @test _INCLUDE_STUDENT_JL_CALLED == true; # the student version of the include file was called\n",
    "        @test rulemodel.number_of_colors == 2\n",
    "        @test rulemodel.radius == 3\n",
    "        @test isempty(rulemodel.rule) == false; # rule is not empty\n",
    "        @test length(initial) == number_of_states\n",
    "        @test sum(initial) == 1 # only one cell is on\n",
    "    end\n",
    "\n",
    "    @testset \"Simulation\" begin\n",
    "\n",
    "        @test isnothing(rulemodel) == false; # rule model is not nothing\n",
    "        @test do_you_see_deterministic_rule_30_simulation_figure == true\n",
    "        @test do_you_see_random_rule_30_simulation_figure == true\n",
    "        @test size(base_frames[1]) == (number_of_steps, number_of_states)\n",
    "        @test size(stochastic_frames[1]) == (number_of_steps, number_of_states)\n",
    "    end\n",
    "end;"
   ]
  }
 ],
 "metadata": {
  "kernelspec": {
   "display_name": "Julia 1.11.6",
   "language": "julia",
   "name": "julia-1.11"
  },
  "language_info": {
   "file_extension": ".jl",
   "mimetype": "application/julia",
   "name": "julia",
   "version": "1.11.6"
  }
 },
 "nbformat": 4,
 "nbformat_minor": 5
}
